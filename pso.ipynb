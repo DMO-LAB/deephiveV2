{
 "cells": [
  {
   "cell_type": "code",
   "execution_count": 1,
   "metadata": {},
   "outputs": [],
   "source": [
    "import numpy as np"
   ]
  },
  {
   "cell_type": "code",
   "execution_count": 40,
   "metadata": {},
   "outputs": [],
   "source": [
    "class Particle:\n",
    "    def __init__(self, dim, bounds):\n",
    "        self.position = np.random.uniform(bounds[0], bounds[1], dim)\n",
    "        self.velocity = np.random.uniform(-1, 1, dim)\n",
    "        self.best_position = np.copy(self.position)\n",
    "        self.best_score = -np.inf  # Since we are maximizing\n",
    "\n",
    "    def update_velocity(self, global_best_position, w, c1, c2):\n",
    "        inertia = w * self.velocity\n",
    "        cognitive = c1 * np.random.random() * (self.best_position - self.position)\n",
    "        social = c2 * np.random.random() * (global_best_position - self.position)\n",
    "        self.velocity = inertia + cognitive + social\n",
    "\n",
    "    def update_position(self, bounds):\n",
    "        self.position += self.velocity\n",
    "        self.position = np.clip(self.position, bounds[0], bounds[1])\n",
    "\n",
    "\n",
    "class PSOAgent:\n",
    "    def __init__(self, num_particles, optimization_function, w=0.5, c1=1.5, c2=1.5):\n",
    "        self.dim = len(optimization_function.bounds()[0])\n",
    "        self.bounds = optimization_function.bounds()\n",
    "        \n",
    "        self.swarm = [Particle(self.dim, self.bounds) for _ in range(num_particles)]\n",
    "        self.global_best_position = None\n",
    "        self.global_best_score = -np.inf  # Since we are maximizing\n",
    "        self.optimization_function = optimization_function\n",
    "        self.w = w\n",
    "        self.c1 = c1\n",
    "        self.c2 = c2\n",
    "\n",
    "        # To store the history of global best positions and their values\n",
    "        self.global_best_positions = []\n",
    "        self.global_best_scores = []\n",
    "\n",
    "    def optimize(self, iterations=10000):\n",
    "        for _ in range(iterations):\n",
    "            for particle in self.swarm:\n",
    "                score = self.optimization_function.evaluate(particle.position.reshape(1, -1))\n",
    "                if score > particle.best_score:\n",
    "                    particle.best_score = score\n",
    "                    particle.best_position = particle.position\n",
    "                    \n",
    "                if score > self.global_best_score:\n",
    "                    self.global_best_score = score\n",
    "                    self.global_best_position = particle.position\n",
    "                    \n",
    "                    # Store the new global best positions and their values\n",
    "                    self.global_best_positions.append(self.global_best_position)\n",
    "                    self.global_best_scores.append(self.global_best_score)\n",
    "                    \n",
    "            for particle in self.swarm:\n",
    "                particle.update_velocity(self.global_best_position, self.w, self.c1, self.c2)\n",
    "                particle.update_position(self.bounds)\n",
    "\n",
    "        return self.global_best_positions, self.global_best_scores\n",
    "\n"
   ]
  },
  {
   "cell_type": "code",
   "execution_count": 41,
   "metadata": {},
   "outputs": [],
   "source": [
    "from environment.optimization_functions.barrel import *"
   ]
  },
  {
   "cell_type": "code",
   "execution_count": 55,
   "metadata": {},
   "outputs": [
    {
     "name": "stdout",
     "output_type": "stream",
     "text": [
      "[2.12469179 4.51283633] [-1.26515034]\n"
     ]
    }
   ],
   "source": [
    "\n",
    "\n",
    "# Create an instance of the optimization function class, e.g., NegRosenbrockFunction\n",
    "optimization_function = RosenbrockFunction()\n",
    "\n",
    "# Create an instance of the PSOAgent with the optimization function\n",
    "pso_agent = PSOAgent(num_particles=30, optimization_function=optimization_function, w=0.0, c1=1.5, c2=1.5)\n",
    "\n",
    "global_best_positions, global_best_scores = pso_agent.optimize(iterations=1000)\n",
    "print(global_best_positions[-1], global_best_scores[-1])\n"
   ]
  },
  {
   "cell_type": "code",
   "execution_count": 47,
   "metadata": {},
   "outputs": [
    {
     "data": {
      "text/plain": [
       "[array([ 2.22314881, -2.42627905]),\n",
       " array([-0.72932009,  1.38648026]),\n",
       " array([-1.35672463,  0.87159502]),\n",
       " array([-0.8829968 ,  1.75718052]),\n",
       " array([-1.04245719,  2.41242214]),\n",
       " array([-0.81863898,  0.48641015]),\n",
       " array([ 0.69286005, -2.19676063]),\n",
       " array([ 0.09816157, -0.68271187]),\n",
       " array([-0.71554782,  1.23981773]),\n",
       " array([ 0.37521935, -1.27406022]),\n",
       " array([ 0.4617895 , -0.48601286]),\n",
       " array([-0.22319851,  1.69698358]),\n",
       " array([0.04233092, 0.9800218 ]),\n",
       " array([ 1.30883245, -0.15081698]),\n",
       " array([0.67138449, 0.78114187]),\n",
       " array([0.52987104, 0.63226738]),\n",
       " array([0.62078648, 0.54636459]),\n",
       " array([0.81230623, 0.35190335]),\n",
       " array([0.72450701, 0.44307147]),\n",
       " array([0.72597244, 0.44065113]),\n",
       " array([0.82234752, 0.87306982]),\n",
       " array([0.87344111, 0.79319914]),\n",
       " array([0.81918784, 0.75891698]),\n",
       " array([0.94150143, 0.89308801]),\n",
       " array([1.09684745, 1.20261146]),\n",
       " array([1.06884172, 1.08386306]),\n",
       " array([1.02434498, 1.03148465]),\n",
       " array([1.34220502, 1.47635614]),\n",
       " array([0.87459754, 0.83058699]),\n",
       " array([0.97440502, 0.96666337]),\n",
       " array([1.02631773, 1.03749652]),\n",
       " array([0.9844259, 0.9797532]),\n",
       " array([0.9808929 , 0.97803844]),\n",
       " array([1.0051339 , 1.00835625]),\n",
       " array([0.98868445, 0.9860466 ]),\n",
       " array([1.0022204 , 1.00447674]),\n",
       " array([1.00220275, 1.00442833]),\n",
       " array([1.00207532, 1.0041564 ]),\n",
       " array([1.01127318, 1.01698074]),\n",
       " array([0.99540674, 0.99255927]),\n",
       " array([0.99448601, 0.99210304]),\n",
       " array([1.00010112, 1.0003902 ]),\n",
       " array([1.00008994, 1.00018941]),\n",
       " array([1.00010908, 1.00021169]),\n",
       " array([1.00011865, 1.00022282]),\n",
       " array([1.00013917, 1.00024214]),\n",
       " array([1.00004095, 1.00007799]),\n",
       " array([0.99994427, 0.99990703]),\n",
       " array([0.99987524, 0.99979909]),\n",
       " array([1.00004225, 1.00006025]),\n",
       " array([0.99996441, 0.99994393]),\n",
       " array([0.99999133, 0.99998409]),\n",
       " array([0.99999744, 0.9999933 ]),\n",
       " array([0.99999647, 0.99999182]),\n",
       " array([0.99999094, 0.99998336]),\n",
       " array([0.99999593, 0.99999102]),\n",
       " array([0.99999154, 0.9999844 ]),\n",
       " array([0.99999821, 0.99999477]),\n",
       " array([0.99999498, 0.99998981]),\n",
       " array([0.99999521, 0.99999017]),\n",
       " array([0.99999502, 0.99998988]),\n",
       " array([0.99999474, 0.99998957]),\n",
       " array([0.99999558, 0.99999089]),\n",
       " array([0.99999603, 0.9999917 ]),\n",
       " array([0.99999576, 0.99999128]),\n",
       " array([0.99999546, 0.99999097]),\n",
       " array([0.99999576, 0.99999139]),\n",
       " array([0.99999628, 0.99999237]),\n",
       " array([0.99999623, 0.99999226]),\n",
       " array([0.99999668, 0.99999307]),\n",
       " array([0.99999662, 0.99999303]),\n",
       " array([0.9999965 , 0.99999292]),\n",
       " array([0.99999648, 0.99999287]),\n",
       " array([0.99999674, 0.99999352]),\n",
       " array([0.99999662, 0.99999335]),\n",
       " array([0.99999681, 0.99999385]),\n",
       " array([0.99999689, 0.99999395]),\n",
       " array([0.99999699, 0.99999416]),\n",
       " array([0.99999679, 0.99999374]),\n",
       " array([0.99999713, 0.99999439]),\n",
       " array([0.99999788, 0.99999565]),\n",
       " array([0.99999819, 0.99999626]),\n",
       " array([0.99999826, 0.99999642]),\n",
       " array([0.9999999 , 0.99999899]),\n",
       " array([0.99999913, 0.99999817]),\n",
       " array([0.99999908, 0.99999808]),\n",
       " array([0.99999931, 0.9999985 ]),\n",
       " array([0.99999966, 0.99999922]),\n",
       " array([0.99999949, 0.99999888]),\n",
       " array([0.99999968, 0.99999926]),\n",
       " array([0.99999966, 0.99999955]),\n",
       " array([0.99999985, 0.99999974]),\n",
       " array([1.00000016, 1.00000028])]"
      ]
     },
     "execution_count": 47,
     "metadata": {},
     "output_type": "execute_result"
    }
   ],
   "source": [
    "global_best_positions"
   ]
  },
  {
   "cell_type": "code",
   "execution_count": 36,
   "metadata": {},
   "outputs": [
    {
     "data": {
      "text/plain": [
       "[<matplotlib.lines.Line2D at 0x13310df2cd0>]"
      ]
     },
     "execution_count": 36,
     "metadata": {},
     "output_type": "execute_result"
    },
    {
     "data": {
      "image/png": "[encoded data removed]",
      "text/plain": [
       "<Figure size 432x288 with 1 Axes>"
      ]
     },
     "metadata": {
      "needs_background": "light"
     },
     "output_type": "display_data"
    }
   ],
   "source": [
    "import matplotlib.pyplot as plt\n",
    "%matplotlib inline\n",
    "\n",
    "plt.plot(global_best_scores)"
   ]
  }
 ],
 "metadata": {
  "kernelspec": {
   "display_name": "RLEnv",
   "language": "python",
   "name": "python3"
  },
  "language_info": {
   "codemirror_mode": {
    "name": "ipython",
    "version": 3
   },
   "file_extension": ".py",
   "mimetype": "text/x-python",
   "name": "python",
   "nbconvert_exporter": "python",
   "pygments_lexer": "ipython3",
   "version": "3.9.10"
  }
 },
 "nbformat": 4,
 "nbformat_minor": 2
}
