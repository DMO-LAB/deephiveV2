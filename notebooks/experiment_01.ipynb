{
 "cells": [
  {
   "cell_type": "code",
   "execution_count": 1,
   "metadata": {},
   "outputs": [
    {
     "name": "stdout",
     "output_type": "stream",
     "text": [
      "Using device: cpu\n"
     ]
    }
   ],
   "source": [
    "import sys \n",
    "sys.path.append('../')\n",
    "import os\n",
    "from deephive.environment.deephive_utils import *\n",
    "from deephive.environment.utils import *\n",
    "import numpy as np \n",
    "from deephive.exploration.gp_surrogate import GPSurrogateModule\n",
    "from deephive.environment.utils import filter_points\n",
    "from sklearn.gaussian_process.kernels import RBF, ConstantKernel as C\n",
    "from sklearn.gaussian_process.kernels import Matern\n",
    "from dotenv import load_dotenv\n",
    "load_dotenv()\n",
    "import matplotlib.pyplot as plt"
   ]
  },
  {
   "cell_type": "code",
   "execution_count": 2,
   "metadata": {},
   "outputs": [
    {
     "name": "stdout",
     "output_type": "stream",
     "text": [
      "Loaded policy from:  ../models/exploiting_model.pth\n"
     ]
    }
   ],
   "source": [
    "# #Experiment 1: VARIANCE DRIVEN EXPLORERS AND EXPLOITERS\n",
    "config_path = \"../config/exp_config.json\"\n",
    "model_path = \"../models/exploiting_model.pth\"\n",
    "mode = \"test\"\n",
    "env, agent_policy = initialize(config_path, mode=mode, model_path=model_path)\n",
    "config = parse_config(config_path)"
   ]
  },
  {
   "cell_type": "code",
   "execution_count": 6,
   "metadata": {},
   "outputs": [
    {
     "name": "stdout",
     "output_type": "stream",
     "text": [
      "Resetting the GP\n",
      "[array([0., 1., 0., 0., 1., 0., 0., 0., 1., 0.]), array([0., 1., 0., 0., 1., 0., 0., 0., 1., 0.])]\n"
     ]
    }
   ],
   "source": [
    "env.split_ratio = 0.3\n",
    "obs, role = env.reset()\n",
    "print(role)"
   ]
  },
  {
   "cell_type": "code",
   "execution_count": null,
   "metadata": {},
   "outputs": [],
   "source": []
  },
  {
   "cell_type": "code",
   "execution_count": null,
   "metadata": {},
   "outputs": [],
   "source": []
  },
  {
   "cell_type": "code",
   "execution_count": null,
   "metadata": {},
   "outputs": [],
   "source": [
    "agent_policy.std_controller.decay_std()\n",
    "std_obs = agent_policy.std_controller.get_all_std(role)\n",
    "std_obs\n"
   ]
  },
  {
   "cell_type": "code",
   "execution_count": null,
   "metadata": {},
   "outputs": [],
   "source": [
    "action, next_point =  get_informed_action(env, number_of_points=10)\n",
    "obs, reward, done, info = env.step(action)"
   ]
  },
  {
   "cell_type": "code",
   "execution_count": null,
   "metadata": {},
   "outputs": [],
   "source": [
    "render = Render(env)"
   ]
  },
  {
   "cell_type": "code",
   "execution_count": null,
   "metadata": {},
   "outputs": [],
   "source": [
    "render.render_state()"
   ]
  },
  {
   "cell_type": "code",
   "execution_count": null,
   "metadata": {},
   "outputs": [],
   "source": [
    "env.surrogate.plot_surrogate()"
   ]
  },
  {
   "cell_type": "code",
   "execution_count": null,
   "metadata": {},
   "outputs": [],
   "source": [
    "env.surrogate.plot_checkpoints_state()"
   ]
  },
  {
   "cell_type": "code",
   "execution_count": null,
   "metadata": {},
   "outputs": [],
   "source": [
    "class StdController:\n",
    "    def __init__(self, num_agents, role_std={'explorer': 1.0, 'exploiter': 0.5}, decay_rate=0.99, min_std=0.01, max_std=0.5):\n",
    "        self.num_agents = num_agents\n",
    "        self.std = [role_std['explorer']] * num_agents  # Default std for all agents\n",
    "        self.role_std = role_std\n",
    "        self.decay_rate = decay_rate\n",
    "        self.min_std = min_std\n",
    "        self.max_std = max_std\n",
    "        self.iteration_num = 0\n",
    "\n",
    "    def update_roles(self, roles):\n",
    "        # roles: list of 0s and 1s indicating the role of each agent\n",
    "        for i in range(self.num_agents):\n",
    "            self.std[i] = self.role_std['explorer'] if roles[i] == 0 else self.role_std['exploiter']\n",
    "\n",
    "    def decay_std(self, iteration):\n",
    "        # Optionally decay std based on the iteration number\n",
    "        decay_factor = self.decay_rate ** iteration\n",
    "        self.std = [max(self.min_std, min(s * decay_factor, self.max_std)) for s in self.std]\n",
    "\n",
    "    def get_std(self, agent_id):\n",
    "        self.iteration_num += 1\n",
    "        # Get the current std for a specific agent\n",
    "        return self.std[agent_id]\n",
    "    \n",
    "    def get_all_std(self, roles=None):\n",
    "        # Get the current std for all agents\n",
    "        if roles is not None:\n",
    "            self.update_roles(roles)\n",
    "        return self.std\n",
    "    \n",
    "    \n",
    "    \n",
    "\n",
    "\n"
   ]
  },
  {
   "cell_type": "code",
   "execution_count": 5,
   "metadata": {},
   "outputs": [
    {
     "data": {
      "text/plain": [
       "0.12157665459056935"
      ]
     },
     "execution_count": 5,
     "metadata": {},
     "output_type": "execute_result"
    }
   ],
   "source": [
    "0.9**20"
   ]
  },
  {
   "cell_type": "code",
   "execution_count": null,
   "metadata": {},
   "outputs": [],
   "source": [
    "# Example usage\n",
    "std_controller = StdController(num_agents=10,\n",
    "                               role_std={'explorer': 0.2, 'exploiter': 0.05},\n",
    "                               decay_rate=0.8,\n",
    "                               min_std=0.01,\n",
    "                               max_std=0.5)\n",
    "std_controller.update_roles([0, 1, 0, 1, 0, 1, 0, 1, 0, 1])\n",
    "std_controller.decay_std(iteration=10)\n",
    "\n",
    "for agent_id in range(10):\n",
    "    print(f\"Agent {agent_id} Std: {std_controller.get_std(agent_id)}\")"
   ]
  },
  {
   "cell_type": "code",
   "execution_count": null,
   "metadata": {},
   "outputs": [],
   "source": [
    "std_controller.get_all_std()"
   ]
  }
 ],
 "metadata": {
  "kernelspec": {
   "display_name": "mlEnv",
   "language": "python",
   "name": "python3"
  },
  "language_info": {
   "codemirror_mode": {
    "name": "ipython",
    "version": 3
   },
   "file_extension": ".py",
   "mimetype": "text/x-python",
   "name": "python",
   "nbconvert_exporter": "python",
   "pygments_lexer": "ipython3",
   "version": "3.11.7"
  }
 },
 "nbformat": 4,
 "nbformat_minor": 2
}
