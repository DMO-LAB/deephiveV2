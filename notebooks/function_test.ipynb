{
 "cells": [
  {
   "cell_type": "code",
   "execution_count": 1,
   "metadata": {},
   "outputs": [
    {
     "name": "stdout",
     "output_type": "stream",
     "text": [
      "Using device: cpu\n"
     ]
    }
   ],
   "source": [
    "import os\n",
    "import sys\n",
    "sys.path.append('../')\n",
    "# from deephive.environment.optimization_functions.test_functions import CEC17\n",
    "from deephive.environment.commons.objective_functions import *\n",
    "import numpy as np\n",
    "from deephive.environment.deephive_utils import *\n",
    "from deephive.environment.utils import *\n",
    "from deephive.exploration.gp_surrogate import GPSurrogateModule\n",
    "from deephive.environment.utils import filter_points\n",
    "from sklearn.gaussian_process.kernels import RBF, ConstantKernel as C\n",
    "from sklearn.gaussian_process.kernels import Matern\n",
    "from dotenv import load_dotenv\n",
    "load_dotenv()\n",
    "import matplotlib.pyplot as plt\n",
    "from experiments.run_experiment2 import *\n",
    "from deephive.environment.optimization_functions.test_functions import CEC17\n",
    "from sko.PSO import PSO"
   ]
  },
  {
   "cell_type": "code",
   "execution_count": 2,
   "metadata": {},
   "outputs": [],
   "source": [
    "# #Experiment 1: VARIANCE DRIVEN EXPLORERS AND EXPLOITERS\n",
    "config_path = \"../config/exp_config.json\"\n",
    "model_path = \"../models/pbest_unfreeze.pth\"\n",
    "model_path_2 = \"../models/gbest.pth\"\n",
    "\n",
    "config = parse_config(config_path)"
   ]
  },
  {
   "cell_type": "code",
   "execution_count": 3,
   "metadata": {},
   "outputs": [
    {
     "name": "stdout",
     "output_type": "stream",
     "text": [
      "Loaded policy from:  ../models/pbest_unfreeze.pth\n",
      "Loaded policy from:  ../models/gbest.pth\n"
     ]
    }
   ],
   "source": [
    "exp_num = 209\n",
    "iters = 10\n",
    "exp_name = \"exp_\" + str(exp_num)\n",
    "result_path = 'experiments/results/' + exp_name + '/'\n",
    "os.makedirs(result_path, exist_ok=True)\n",
    "title = \"PSO\"\n",
    "\n",
    "config['freeze'] = True\n",
    "config['use_gbest'] = True\n",
    "config['role_std'] = {'explorer': 0.5, 'exploiter': 0.02}\n",
    "config['variable_std'] = False\n",
    "config['action_std'] = 0.3\n",
    "config['decay_rate'] = 0.99\n",
    "config['n_agents'] = 10\n",
    "config['n_dim'] = 2\n",
    "config['decay_std'] = False\n",
    "config['decay_start'] = 0\n",
    "config['split_agents'] = True\n",
    "config['split_type'] = \"use_stds\"\n",
    "config['plot_gbest'] = True\n",
    "config['use_optimal_value'] = False\n",
    "config['layer_size'] = [16, 16]\n",
    "config['iters'] = iters\n",
    "config['tol'] = 0\n",
    "config['objective_function'] = \"CEC17\"\n",
    "mode = \"test\"\n",
    "config[\"negative\"] = True\n",
    "config[\"function_id\"] = 1\n",
    "config[\"use_grid\"] = False\n",
    "\n",
    "config['w'] = 0.7298\n",
    "config['c1'] = 1.49816\n",
    "config['c2'] = 1.49816\n",
    "config['ep_length'] = 20\n",
    "\n",
    "env, agent_policies = initialize(config, mode=mode, model_path=[model_path, model_path_2])\n",
    "pbest_policy = agent_policies[0]\n",
    "gbest_policy = agent_policies[1]\n",
    "opt_value = env.objective_function.optimal_value(dim=env.n_dim)\n",
    "# run_experiment(env, pbest_policy, config, exp_name)\n",
    "# objective_function = lambda x: -env.objective_function.evaluate(np.array([x]).reshape(1, -1))[0]\n",
    "# lower_bound, upper_bound = env.objective_function.bounds(dim=env.n_dim)[0].tolist(), env.objective_function.bounds(dim=env.n_dim)[1].tolist()\n",
    "\n",
    "# algorithm = PSO(func=objective_function, n_dim=env.n_dim, pop=config['n_agents'], max_iter=config['ep_length'], lb=lower_bound, ub=upper_bound,\n",
    "#                         w = config['w'], c1 = config['c1'], c2 = config['c2'])\n",
    "# run_experiment_other_algorithm(algorithm, env, config, exp_name, title=title)"
   ]
  },
  {
   "cell_type": "code",
   "execution_count": 4,
   "metadata": {},
   "outputs": [
    {
     "name": "stdout",
     "output_type": "stream",
     "text": [
      "WARNING: f2 has been deprecated from the CEC 2017 benchmark suite\n"
     ]
    }
   ],
   "source": [
    "obs, obs_std = env.reset()\n",
    "policy = pbest_policy"
   ]
  },
  {
   "cell_type": "code",
   "execution_count": 10,
   "metadata": {},
   "outputs": [
    {
     "name": "stdout",
     "output_type": "stream",
     "text": [
      "Explorers: [3 2 0 9 5 4 8 1 7 6], Exploiters: []\n"
     ]
    }
   ],
   "source": [
    "split_ratio = 1\n",
    "explorers_id = np.random.choice(env.n_agents, int(env.n_agents * split_ratio), replace=False)\n",
    "exploiters_id = np.setdiff1d(np.arange(env.n_agents), explorers_id)\n",
    "print(f\"Explorers: {explorers_id}, Exploiters: {exploiters_id}\")\n",
    "\n",
    "roles = np.zeros(env.n_agents)\n",
    "roles[exploiters_id] = 1"
   ]
  },
  {
   "cell_type": "code",
   "execution_count": 11,
   "metadata": {},
   "outputs": [],
   "source": [
    "roles[[]] = 1"
   ]
  },
  {
   "cell_type": "code",
   "execution_count": 5,
   "metadata": {},
   "outputs": [],
   "source": [
    "actions = get_action(obs, policy, env, obs_std)"
   ]
  },
  {
   "cell_type": "code",
   "execution_count": null,
   "metadata": {},
   "outputs": [],
   "source": [
    "print(actions.shape)\n",
    "actions = actions.reshape(-1, env.n_dim)\n",
    "print(actions.shape)"
   ]
  },
  {
   "cell_type": "code",
   "execution_count": 6,
   "metadata": {},
   "outputs": [],
   "source": [
    "_ = env.step(actions)"
   ]
  },
  {
   "cell_type": "code",
   "execution_count": null,
   "metadata": {},
   "outputs": [],
   "source": [
    "actual_state = env._get_actual_state()"
   ]
  },
  {
   "cell_type": "code",
   "execution_count": null,
   "metadata": {},
   "outputs": [],
   "source": [
    "params = actual_state[:, :env.n_dim]\n",
    "params.shape"
   ]
  },
  {
   "cell_type": "code",
   "execution_count": null,
   "metadata": {},
   "outputs": [],
   "source": [
    "f10 = CEC17(11)"
   ]
  },
  {
   "cell_type": "code",
   "execution_count": null,
   "metadata": {},
   "outputs": [],
   "source": [
    "f10.evaluate(params)"
   ]
  },
  {
   "cell_type": "code",
   "execution_count": 2,
   "metadata": {},
   "outputs": [],
   "source": [
    "def bent_cigar(x: np.ndarray) -> np.ndarray:\n",
    "    sm = np.sum(x[:, 1:] * x[:, 1:], axis=1)\n",
    "    sm = sm * 10e6\n",
    "    return x[:, 0]*x[:, 0] + sm\n",
    "\n",
    "def bent_cigar_2(x):\n",
    "    '''Bent Cigar\n",
    "\n",
    "    Parameters\n",
    "    ----------\n",
    "    x : list\n",
    "\n",
    "    Returns\n",
    "    -------\n",
    "    float\n",
    "\n",
    "    Notes\n",
    "    -----\n",
    "    global minimum: f(x*)=0 at x*=(0,...,0)\n",
    "    bounds: x_i in [-100,100] for i=1,...,n\n",
    "\n",
    "    References\n",
    "    ----------\n",
    "    https://al-roomi.org/benchmarks/unconstrained/n-dimensions/164-bent-cigar-function\n",
    "    '''\n",
    "\n",
    "    return x[0]**2 + 1e6*sum([v**2 for v in x[1:]])"
   ]
  },
  {
   "cell_type": "code",
   "execution_count": 1,
   "metadata": {},
   "outputs": [],
   "source": [
    "from deephive.environment.optimization_functions.cec2017.basic import * \n",
    "from deephive.environment.optimization_functions.cec2017.functions import all_functions as functions\n",
    "from deephive.environment.optimization_functions.cec2017.transforms import *\n",
    "import numpy as np\n",
    "from deephive.environment.optimization_functions.cec2017 import utils"
   ]
  },
  {
   "cell_type": "code",
   "execution_count": 2,
   "metadata": {},
   "outputs": [
    {
     "name": "stdout",
     "output_type": "stream",
     "text": [
      "[[ 46.38157715 160.75930157]\n",
      " [-40.09768648  17.15309242]\n",
      " [  4.74913276 130.4389899 ]\n",
      " [-34.70727533 150.96446029]\n",
      " [-24.96098689  43.30566967]]\n",
      "[[-33.82325438  95.50586853]\n",
      " [-11.66446314 -70.657889  ]\n",
      " [ -7.70328478  51.11748138]\n",
      " [ 36.66297585  54.23805708]\n",
      " [-15.13817593 -40.64105554]] 2\n"
     ]
    }
   ],
   "source": [
    "# generate random parameters\n",
    "def generate_random_parameters(dim, lower_bound, upper_bound, n):\n",
    "    return np.random.uniform(lower_bound, upper_bound, (n, dim))\n",
    "\n",
    "params = generate_random_parameters(2, -100, 100 , 5)\n",
    "nx = params.shape[1]\n",
    "shift = shifts[0][:nx]\n",
    "rotate = rotations[nx][0]\n",
    "# print(shift, rotate)\n",
    "param_transformed = shift_rotate(params, shift, rotate)\n",
    "print(param_transformed)\n",
    "print(params, nx)\n"
   ]
  },
  {
   "cell_type": "code",
   "execution_count": 3,
   "metadata": {},
   "outputs": [
    {
     "name": "stdout",
     "output_type": "stream",
     "text": [
      "[2.58435533e+11 2.94228740e+09 1.70143301e+11 2.27902684e+11\n",
      " 1.87538109e+10]\n",
      "[-2.58435533e+11 -2.94228750e+09 -1.70143301e+11 -2.27902684e+11\n",
      " -1.87538110e+10]\n",
      "[9.12137104e+10 4.99253729e+10 2.61299691e+10 2.94176697e+10\n",
      " 1.65169542e+10]\n"
     ]
    }
   ],
   "source": [
    "print(bent_cigar(param_transformed))\n",
    "print(functions[0](params))\n",
    "print(bent_cigar(params))"
   ]
  },
  {
   "cell_type": "code",
   "execution_count": 4,
   "metadata": {},
   "outputs": [
    {
     "data": {
      "text/plain": [
       "array([100000.0001])"
      ]
     },
     "execution_count": 4,
     "metadata": {},
     "output_type": "execute_result"
    }
   ],
   "source": [
    "bent_cigar(np.array([[0.01,0.1]]))"
   ]
  },
  {
   "cell_type": "code",
   "execution_count": null,
   "metadata": {},
   "outputs": [],
   "source": []
  },
  {
   "cell_type": "code",
   "execution_count": 8,
   "metadata": {},
   "outputs": [
    {
     "data": {
      "image/png": "[encoded data removed]",
      "text/plain": [
       "<Figure size 640x480 with 1 Axes>"
      ]
     },
     "metadata": {},
     "output_type": "display_data"
    }
   ],
   "source": [
    "utils.surface_plot(functions[0], domain=[-100, 100], points=1000, dimension=2)"
   ]
  },
  {
   "cell_type": "code",
   "execution_count": 10,
   "metadata": {},
   "outputs": [
    {
     "data": {
      "text/plain": [
       "array([-4.37119148e+10, -9.42225199e+10, -6.68701472e+09, -3.30228864e+10,\n",
       "       -1.22583104e+11])"
      ]
     },
     "execution_count": 10,
     "metadata": {},
     "output_type": "execute_result"
    }
   ],
   "source": [
    "functions[0](params)"
   ]
  },
  {
   "cell_type": "code",
   "execution_count": 11,
   "metadata": {},
   "outputs": [
    {
     "data": {
      "text/plain": [
       "array([[-55.2763985 , -70.42955972]])"
      ]
     },
     "execution_count": 11,
     "metadata": {},
     "output_type": "execute_result"
    }
   ],
   "source": [
    "opt_param = np.array([shifts[0][:2]])\n",
    "opt_param"
   ]
  },
  {
   "cell_type": "code",
   "execution_count": 12,
   "metadata": {},
   "outputs": [
    {
     "data": {
      "text/plain": [
       "array([-100.])"
      ]
     },
     "execution_count": 12,
     "metadata": {},
     "output_type": "execute_result"
    }
   ],
   "source": [
    "\n",
    "functions[0](opt_param)"
   ]
  },
  {
   "cell_type": "code",
   "execution_count": null,
   "metadata": {},
   "outputs": [],
   "source": [
    "opt"
   ]
  },
  {
   "cell_type": "code",
   "execution_count": 56,
   "metadata": {},
   "outputs": [
    {
     "data": {
      "text/plain": [
       "array([40000000.01])"
      ]
     },
     "execution_count": 56,
     "metadata": {},
     "output_type": "execute_result"
    }
   ],
   "source": [
    "\n",
    "opt_param = np.array([[0.1, 2]])\n",
    "bent_cigar(opt_param)\n"
   ]
  },
  {
   "cell_type": "code",
   "execution_count": null,
   "metadata": {},
   "outputs": [],
   "source": []
  }
 ],
 "metadata": {
  "kernelspec": {
   "display_name": "mlEnv",
   "language": "python",
   "name": "python3"
  },
  "language_info": {
   "codemirror_mode": {
    "name": "ipython",
    "version": 3
   },
   "file_extension": ".py",
   "mimetype": "text/x-python",
   "name": "python",
   "nbconvert_exporter": "python",
   "pygments_lexer": "ipython3",
   "version": "3.11.7"
  }
 },
 "nbformat": 4,
 "nbformat_minor": 2
}
