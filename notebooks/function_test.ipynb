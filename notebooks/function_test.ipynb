{
 "cells": [
  {
   "cell_type": "code",
   "execution_count": 2,
   "metadata": {},
   "outputs": [
    {
     "name": "stdout",
     "output_type": "stream",
     "text": [
      "Using device: cpu\n"
     ]
    }
   ],
   "source": [
    "import os\n",
    "import sys\n",
    "sys.path.append('../')\n",
    "# from deephive.environment.optimization_functions.test_functions import CEC17\n",
    "from deephive.environment.commons.objective_functions import *\n",
    "import numpy as np\n",
    "from deephive.environment.deephive_utils import *\n",
    "from deephive.environment.utils import *\n",
    "from deephive.exploration.gp_surrogate import GPSurrogateModule\n",
    "from deephive.environment.utils import filter_points\n",
    "from sklearn.gaussian_process.kernels import RBF, ConstantKernel as C\n",
    "from sklearn.gaussian_process.kernels import Matern\n",
    "from dotenv import load_dotenv\n",
    "load_dotenv()\n",
    "import matplotlib.pyplot as plt\n",
    "from experiments.run_experiment2 import *\n",
    "from deephive.environment.optimization_functions.test_functions import CEC17\n",
    "from sko.PSO import PSO"
   ]
  },
  {
   "cell_type": "code",
   "execution_count": 3,
   "metadata": {},
   "outputs": [],
   "source": [
    "# #Experiment 1: VARIANCE DRIVEN EXPLORERS AND EXPLOITERS\n",
    "config_path = \"../config/exp_config.json\"\n",
    "model_path = \"../models/pbest_unfreeze.pth\"\n",
    "model_path_2 = \"../models/gbest.pth\"\n",
    "\n",
    "config = parse_config(config_path)"
   ]
  },
  {
   "cell_type": "code",
   "execution_count": 32,
   "metadata": {},
   "outputs": [
    {
     "name": "stdout",
     "output_type": "stream",
     "text": [
      "Loaded policy from:  ../models/pbest_unfreeze.pth\n",
      "Loaded policy from:  ../models/gbest.pth\n"
     ]
    }
   ],
   "source": [
    "exp_num = 209\n",
    "iters = 10\n",
    "exp_name = \"exp_\" + str(exp_num)\n",
    "result_path = 'experiments/results/' + exp_name + '/'\n",
    "os.makedirs(result_path, exist_ok=True)\n",
    "title = \"PSO\"\n",
    "\n",
    "config['freeze'] = True\n",
    "config['use_gbest'] = True\n",
    "config['role_std'] = {'explorer': 0.5, 'exploiter': 0.02}\n",
    "config['variable_std'] = True,\n",
    "config['action_std'] = 0.3\n",
    "config['decay_rate'] = 0.99\n",
    "config['n_agents'] = 10\n",
    "config['n_dim'] = 10\n",
    "config['decay_std'] = False\n",
    "config['decay_start'] = 0\n",
    "config['split_agents'] = True\n",
    "config['split_type'] = \"use_stds\"\n",
    "config['plot_gbest'] = True\n",
    "config['use_optimal_value'] = False\n",
    "config['layer_size'] = [16, 16]\n",
    "config['iters'] = iters\n",
    "config['tol'] = 0\n",
    "config['objective_function'] = \"CEC17\"\n",
    "mode = \"test\"\n",
    "config[\"negative\"] = True\n",
    "config[\"function_id\"] = 10\n",
    "config[\"use_grid\"] = False\n",
    "\n",
    "config['w'] = 0.7298\n",
    "config['c1'] = 1.49816\n",
    "config['c2'] = 1.49816\n",
    "config['ep_length'] = 20\n",
    "\n",
    "env, agent_policies = initialize(config, mode=mode, model_path=[model_path, model_path_2])\n",
    "pbest_policy = agent_policies[0]\n",
    "gbest_policy = agent_policies[1]\n",
    "opt_value = env.objective_function.optimal_value(dim=env.n_dim)\n",
    "# run_experiment(env, pbest_policy, config, exp_name)\n",
    "# objective_function = lambda x: -env.objective_function.evaluate(np.array([x]).reshape(1, -1))[0]\n",
    "# lower_bound, upper_bound = env.objective_function.bounds(dim=env.n_dim)[0].tolist(), env.objective_function.bounds(dim=env.n_dim)[1].tolist()\n",
    "\n",
    "# algorithm = PSO(func=objective_function, n_dim=env.n_dim, pop=config['n_agents'], max_iter=config['ep_length'], lb=lower_bound, ub=upper_bound,\n",
    "#                         w = config['w'], c1 = config['c1'], c2 = config['c2'])\n",
    "# run_experiment_other_algorithm(algorithm, env, config, exp_name, title=title)"
   ]
  },
  {
   "cell_type": "code",
   "execution_count": 33,
   "metadata": {},
   "outputs": [],
   "source": [
    "_ = env.reset()"
   ]
  },
  {
   "cell_type": "code",
   "execution_count": 34,
   "metadata": {},
   "outputs": [],
   "source": [
    "actual_state = env._get_actual_state()"
   ]
  },
  {
   "cell_type": "code",
   "execution_count": 35,
   "metadata": {},
   "outputs": [
    {
     "data": {
      "text/plain": [
       "(10, 10)"
      ]
     },
     "execution_count": 35,
     "metadata": {},
     "output_type": "execute_result"
    }
   ],
   "source": [
    "params = actual_state[:, :env.n_dim]\n",
    "params.shape"
   ]
  },
  {
   "cell_type": "code",
   "execution_count": 38,
   "metadata": {},
   "outputs": [],
   "source": [
    "f10 = CEC17(11)"
   ]
  },
  {
   "cell_type": "code",
   "execution_count": 39,
   "metadata": {},
   "outputs": [
    {
     "data": {
      "text/plain": [
       "array([9.25786372e+10, 3.57034275e+11, 1.02598053e+11, 2.88423815e+11,\n",
       "       5.51081608e+10, 2.47248167e+11, 1.91040290e+11, 2.37763300e+11,\n",
       "       9.44773255e+10, 6.31747286e+10])"
      ]
     },
     "execution_count": 39,
     "metadata": {},
     "output_type": "execute_result"
    }
   ],
   "source": [
    "f10.evaluate(params)"
   ]
  },
  {
   "cell_type": "code",
   "execution_count": 7,
   "metadata": {},
   "outputs": [],
   "source": [
    "def bent_cigar(x: np.ndarray) -> np.ndarray:\n",
    "    sm = np.sum(x[:, 1:] * x[:, 1:], axis=1)\n",
    "    sm = sm * 10e6\n",
    "    return x[:, 0]*x[:, 0] + sm"
   ]
  },
  {
   "cell_type": "code",
   "execution_count": 8,
   "metadata": {},
   "outputs": [
    {
     "name": "stdout",
     "output_type": "stream",
     "text": [
      "[[-70.11847003  19.40717191]\n",
      " [-93.10818054 -41.85886453]\n",
      " [ 89.55232182 -84.37537421]\n",
      " [ 20.40002799 -60.19309413]\n",
      " [-73.50028815 -91.53619362]]\n"
     ]
    }
   ],
   "source": [
    "# generate random parameters\n",
    "def generate_random_parameters(dim, lower_bound, upper_bound, n):\n",
    "    return np.random.uniform(lower_bound, upper_bound, (n, dim))\n",
    "\n",
    "params = generate_random_parameters(2, -100, 100, 5)\n",
    "print(params)\n"
   ]
  },
  {
   "cell_type": "code",
   "execution_count": null,
   "metadata": {},
   "outputs": [],
   "source": []
  },
  {
   "cell_type": "code",
   "execution_count": null,
   "metadata": {},
   "outputs": [],
   "source": [
    "function = CEC17(0, negative=False)\n",
    "opt_param = np.array([[-55.28, -70.43]])\n",
    "print(function.evaluate(opt_param))\n",
    "# print(function.evaluate(params))"
   ]
  },
  {
   "cell_type": "code",
   "execution_count": null,
   "metadata": {},
   "outputs": [],
   "source": []
  }
 ],
 "metadata": {
  "kernelspec": {
   "display_name": "mlEnv",
   "language": "python",
   "name": "python3"
  },
  "language_info": {
   "codemirror_mode": {
    "name": "ipython",
    "version": 3
   },
   "file_extension": ".py",
   "mimetype": "text/x-python",
   "name": "python",
   "nbconvert_exporter": "python",
   "pygments_lexer": "ipython3",
   "version": "3.11.7"
  }
 },
 "nbformat": 4,
 "nbformat_minor": 2
}
