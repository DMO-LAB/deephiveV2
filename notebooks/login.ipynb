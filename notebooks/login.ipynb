{
 "cells": [
  {
   "cell_type": "code",
   "execution_count": 5,
   "metadata": {},
   "outputs": [],
   "source": [
    "import requests\n",
    "from bs4 import BeautifulSoup\n",
    "import re\n",
    "import base64\n",
    "from typing import List, Dict, Tuple\n",
    "from lxml import html\n",
    "from captcha_solver.challenges.text_challenge import TextChallenge\n",
    "from captcha_solver.solvers import CaptchaSolverBase\n",
    "from registry import Registry\n",
    "from captcha_solver.solvers.model_apis.TrOCR_api import TrOCR_API\n",
    "from login_handler import LoginHandler\n",
    "import time \n",
    "import random\n",
    "import numpy as np\n",
    "from tbselenium.tbdriver import TorBrowserDriver\n",
    "from selenium.common.exceptions import TimeoutException\n",
    "import os\n",
    "import shutil\n",
    "from selenium import webdriver\n",
    "from selenium.webdriver.common.by import By\n",
    "from selenium.webdriver.support.ui import WebDriverWait\n",
    "from selenium.webdriver.support import expected_conditions as EC\n"
   ]
  },
  {
   "cell_type": "code",
   "execution_count": 3,
   "metadata": {},
   "outputs": [],
   "source": []
  },
  {
   "cell_type": "code",
   "execution_count": 18,
   "metadata": {},
   "outputs": [],
   "source": [
    "GECKO_DRIVER_EXE_PATH = shutil.which(\"geckodriver\")\n",
    "driver = TorBrowserDriver(os.getenv(\"TBB_PATH\",\"/opt/tor-browser/\"), \n",
    "                        tbb_logfile_path=os.getenv(\"TBB_LOG_PATH\",\"/opt/tor-browser/logs/tbselenium.log\"),\n",
    "                        executable_path=GECKO_DRIVER_EXE_PATH)\n",
    "\n",
    "CAPTCHA_IMAGE_DIR = \"temp_captcha\"\n",
    "CAPTCHA_IMAGE_PATH = f\"{CAPTCHA_IMAGE_DIR}/text_captcha.png\"\n",
    "DEFAULT_COLOUR = 'FF0000'\n",
    "def download_captcha_image(captcha_base64):\n",
    "    if not os.path.isdir(CAPTCHA_IMAGE_DIR):\n",
    "        os.mkdir(CAPTCHA_IMAGE_DIR)\n",
    "    \n",
    "    with open(CAPTCHA_IMAGE_PATH, 'wb') as f:\n",
    "        f.write(base64.b64decode(captcha_base64))\n",
    "        \n",
    "def _input_text(driver, field_name, text):\n",
    "    field = driver.find_element(By.NAME, field_name)\n",
    "    field.clear()\n",
    "    for key in text:\n",
    "        field.send_keys(key)\n",
    "        time.sleep(random.uniform(0.1, 0.3))\n",
    "        \n",
    "username = \"massive_disappointment\"\n",
    "password = \"massive_disappointment\"\n",
    "\n",
    "#login_handler = LoginHandler(driver, username, password, logger, darkweb=darkweb, custom_prompt=custom_prompt)\n",
    "url = \"http://wg7ljicnzfrh7dhssrsqgiqhqe7vgzc2ovyit2zz5bgiolztieljmjyd.onion/chat.php\"\n",
    "driver.get(url)\n",
    "\n",
    "# Extract captcha image and challenge value\n",
    "captcha_image_element = WebDriverWait(driver, 10).until(EC.presence_of_element_located((By.CSS_SELECTOR, 'img')))\n",
    "captcha_base64 = captcha_image_element.get_attribute('src').split(',')[1]\n",
    "print(captcha_base64)\n",
    "download_captcha_image(captcha_base64)\n",
    "# send username and password and captcha\n",
    "captcha_soln = \"y,^!6\"\n",
    "input_username = _input_text(driver, \"nick\", username)\n",
    "input_password = _input_text(driver, \"pass\", password)\n",
    "input_captcha = _input_text(driver, \"captcha\", captcha_soln)\n",
    "\n",
    "## submit form\n",
    "driver.find_element(By.CSS_SELECTOR, \"input[type='submit']\").click()\n",
    "\n",
    "# check if there is a button with value \"Back to the login page\", then click it\n",
    "def check_successful_login(driver):\n",
    "    try:\n",
    "        backbutton = driver.find_element(By.XPATH, \"//input[@value='Back to the login page.'] | //class[@value='backbutton']\")\n",
    "        if backbutton:\n",
    "            backbutton.click()\n",
    "            return False\n",
    "        else:\n",
    "            return True\n",
    "    except:\n",
    "        return True\n",
    "    \n",
    "if check_successful_login(driver):\n",
    "    print(\"Login successful\")\n",
    "else:\n",
    "    print(\"Login failed\")\n",
    "\n",
    "\n"
   ]
  },
  {
   "cell_type": "code",
   "execution_count": 24,
   "metadata": {},
   "outputs": [],
   "source": [
    "# get current html of page\n",
    "html = driver.page_source\n",
    "# parse html\n",
    "soup = BeautifulSoup(html, 'html.parser')"
   ]
  },
  {
   "cell_type": "code",
   "execution_count": 25,
   "metadata": {},
   "outputs": [
    {
     "data": {
      "text/plain": [
       "'<html lang=\"en\"><head><meta http-equiv=\"Content-Type\" content=\"text/html; charset=UTF-8\"><meta name=\"referrer\" content=\"no-referrer\"><meta name=\"viewport\" content=\"width=device-width, initial-scale=1, user-scalable=yes\"><meta name=\"theme-color\" content=\"#000000\"><meta name=\"msapplication-TileColor\" content=\"#000000\"><meta name=\"description\" content=\"\"><link rel=\"icon\" href=\"icons/sus.ico\" sizes=\"32x32\"><title>💖🍒HeBe + TeeN ChaT 🍒💖</title><style type=\"text/css\">body,iframe{background-color:#000000;color:#FFFFFF;font-size:14px;text-align:center}a:visited{color:#B33CB4} a:link{color:#00A2D4} a:active{color:#55A2D4} #messages{word-wrap:break-word}input,select,textarea{color:#FFFFFF;background-color:#000000} .messages a img{width:15%} .messages a:hover img{width:35%} .error{color:#FF0033;text-align:left} .delbutton{background-color:#660000} .backbutton{background-color:#004400} #exitbutton{background-color:#AA0000} .setup table table,.admin table table,.profile table table{width:100%;text-align:left} .alogin table,.init table,.destroy_chat table,.delete_account table,.sessions table,.filter table,.linkfilter table,.notes table,.approve_waiting table,.del_confirm table,.profile table,.admin table,.backup table,.setup table{margin-left:auto;margin-right:auto} .setup table table table,.admin table table table,.profile table table table{border-spacing:0px;margin-left:auto;margin-right:unset;width:unset} .setup table table td,.backup #restoresubmit,.backup #backupsubmit,.admin table table td,.profile table table td,.login td+td,.alogin td+td{text-align:right} .init td,.backup #restorecheck td,.admin #clean td,.admin #regnew td,.session td,.messages,.inbox,.approve_waiting td,.choose_messages,.greeting,.help,.login td,.alogin td{text-align:left} .messages #chatters{max-height:100px;overflow-y:auto} .messages #chatters .messages #chatters table{border-spacing:0px} .messages #chatters th,.messages #chatters td,.post #firstline{vertical-align:top} .approve_waiting #action td:only-child,.help #backcredit,.login td:only-child,.alogin td:only-child,.init td:only-child{text-align:center} .sessions td,.sessions th,.approve_waiting td,.approve_waiting th{padding: 5px} .sessions td td{padding: 1px} .messages #bottom_link{position:fixed;top:0.5em;right:0.5em} .messages #top_link{position:fixed;bottom:0.5em;right:0.5em} .post table,.controls table,.login table{border-spacing:0px;margin-left:auto;margin-right:auto} .login table{border:2px solid} .controls{overflow-y:none} #manualrefresh{display:block;position:fixed;text-align:center;left:25%;width:50%;top:-200%;animation:timeout_messages 160s forwards;z-index:2;background-color:#500000;border:2px solid #ff0000} @keyframes timeout_messages{0%{top:-200%} 99%{top:-200%} 100%{top:0%}} .notes textarea{height:80vh;width:80%} iframe{width:100%;height:100%;margin:0;padding:0;border:none}.msg{max-height:180px;overflow-y:auto}</style><style type=\"text/css\">body,iframe{background-color:#000000;color:#ffffff} /*Start of css for the gallery*/#gallery_navigation_table td{        vertical-align: bottom;}#gallery_navigation_table{    margin-left:auto;     margin-right:auto;}.imgdiv img{   max-width: 100%;   max-height: 500px;}.imgdiv a {    text-decoration: none;}.imgdiv{   display:none;}.imgdiv:target{   display:block;}#live_gallery_table{    border-collapse: collapse;    margin-left:auto;     margin-right:auto;    table-layout: fixed;    max-width: 90%;}#live_gallery_table img {    max-height: 100px;    max-width: 100%;}#live_gallery_table td{   border: 2px solid Pink;}#current_site_button{   border:none;}#pagination_controls_table{    margin-left:auto;     margin-right:auto;    max-width: 90%;    }#pagination_controls_table tr {    display:flex;    flex-direction:row;    flex-wrap:wrap;    justify-content:center;}#pagination_controls_table td{     vertical-align:middle;}/* End of css for the gallery*/body{background-color:#000000;color:#ffffff;} body.login h1{font-family: Helvetica;font-size: 3.0em;font-weight:bold;color: rgb(93, 0, 255);text-shadow: 1px 1px 2px black, 0 0 1em black,1px 0 1px #000, 0 1px 1px #000, -1px 0 1px #000, 0 -1px 1px #000;}body.login table.center-table{margin-left:auto;margin-right:auto;text-align:center;background-color: rgba(2,2,2,0.5);border-radius:2.0em; border: rgba(0,255,255,0.5) 2px double;padding: 1.0em;box-shadow: 20px 15px 10px 5px rgba(0, 0, 0, .65);margin:20px}body.messages{Background-image: url( );background-size:100%;background-color: black;background-attachment:fixed;background-repeat: no-repeat;}a:visited{color:#B33CB4;filter: unset;} a:active{color:#FF7733;filter: unset;} a:link{color:#7766FF; filter: unset;} input,select,textarea{color:#FFFFFF;background-color:#000000;} .error{color:#FF0033;} .delbutton{background-color:#971599;} .backbutton{background-color:#004400;} #exitbutton{background-color:#971599;} .center-table{margin-left:auto;margin-right:auto;} body{text-align:center;} .left-table{width:100%;text-align:left;} .right{text-align:right;} .left{text-align:left;} .right-table{border-spacing:0px;margin-left:auto;} .padded{padding:5px;} #chatters{max-height:50px;overflow-y:auto;padding-bottom:25px;} .center{text-align:center;}.msg {padding: 0.3em 0; border-bottom: 1px dotted #363636;background-color: rgba(0, 0, 0, 0);z-index:5;}input, select, textarea, button {padding: 0.2em; border: 1px solid #ff00ea; border-radius: 0.5em}#messages small {color: #0a82f2}#messages {display: block; width: 79%;}.messages #topic {display: block; width: 70%;text-align: center;font-family: Helvetica;font-size: 11pt;font-weight:bold;color: rgb(109, 250, 62);text-shadow: 1px 1px 2px black, 0 0 3em Yellow,1px 0 1px black, 0 1px 1px black, -1px 0 1px black, 0 -1px 1px black;filter: saturate(50%) sepia(60%) contrast(200%);padding-bottom:1.0em;}.messages #chatters {display: block; float:left; width: 20%; overflow-y: auto; position:fixed; right:0px; max-height:100%; bottom:2em; top:5em;}.messages #chatters td, #chatters tr, #chatters th{display: table-row; width: 100%!important;}.messages #chatters table a {display: table-row; line-height: 0;}a.channel_toall_link{text-decoration:none;color: rgb(49, 151, 116);font-size: 0.8em;}a.channel_to_members_link{text-decoration:none;color: rgb(89, 151, 116);font-size: 0.8em;}a.channel_to_stuff_link{text-decoration:none;color: rgb(129, 151, 116);font-size: 0.8em;}a.channel_to_admin_link{text-decoration:none;color: rgb(169, 151, 116);font-size: 0.8em;}div.chanel_div{padding:6px;}img.logo_badge_img{position:fixed;right:2em;top:3em;height:100px;z-index: -1;background-color: RGB(0, 0, 0)}img.member_badge_img{position:relative;top:3px;height:25px;}img.guest_badge_img{height:25px;}img.status_badge_img{height:13px; padding-right:5px}div.section1{display:inline-block;text-align: center;font-family: Helvetica;font-size: 14pt;font-weight:bold;color: rgb(49, 151, 116);text-shadow: 1px 1px 2px black, 0 0 2em rgb(49, 151, 116),1px 0 1px #000, 0 1px 1px #000, -1px 0 1px #000, 0 -1px 1px #000;}div.section2{display:inline-block;text-align: center;font-family: Helvetica;font-size: 14pt;font-weight:bold;color: rgb(149, 151, 116);text-shadow: 1px 1px 2px black, 0 0 1em gold,1px 0 1px #000, 0 1px 1px #000, -1px 0 1px #000, 0 -1px 1px #000;filter: saturate(50%) sepia(60%) contrast(200%);}div.section3{display:inline-block;text-align: center;font-family: Helvetica;font-size: 14pt;font-weight:bold;color: rgb(249, 151, 116);text-shadow: 1px 1px 2px black, 0 0 1em orange,1px 0 1px #000, 0 1px 1px #000, -1px 0 1px #000, 0 -1px 1px #000;filter: saturate(50%) sepia(60%) contrast(200%);}span.all_mark{color: rgb(49, 151, 116);}span.member_mark{color: rgb(109, 151, 116);}span.stuff_mark{color: rgb(149, 151, 116);}span.admin_mark{color: rgb(209, 151, 116);}body.login {/*Background-image: url( );*/Background-image: url( );background-size:100%;background-color: black;background-position:  center top;background-repeat: no-repeat;}span.img_poster{font-family: Helvetica;font-size: 1.0em;font-weight:bold;color: rgb(149, 151, 116);/*text-shadow: 1px 1px 2px black, 0 0 1em gold,1px 0 1px black, 0 1px 1px black, -1px 0 1px black, 0 -1px 1px black;*//*filter: saturate(20%) sepia(20%) contrast(200%);*/}span.guest_badge{font-size: 12pt;font-weight:bold;padding-right:5px;color: rgb(64, 224, 208);}div.chatter_guest_div{float:left;padding:5px 3px 5px 3px}div.chatter_member_div{float:left;padding:3px 3px 0px 3px}a.chatter_guest_link{text-decoration:none;}a.chatter_member_link{text-decoration:none;}span.chatter_inbox{text-decoration:none;padding-top:15px;font-family: Helvetica;font-size: 0.75em;font-weight:bold;color: rgb(49, 151, 116);}span.chatter_inbox a{text-decoration:none;}div.links_buton{float:left;}div.msg a{text-decoration:none;font-family: Helvetica;font-size: 0.85em;font-weight:bold}.messages #pulse1 { \\t-webkit-animation: pulse 10s linear infinite;  \\tanimation: pulse 10s linear infinite;  \\tfont-weight: bold;  \\tcolor: color: #F00;  }@-webkit-keyframes pulse { 0% { color: #ed25e3; }25% { color: #9e2f03; }50% { color: #aaa208; }75% { color: #9e2f03; }100% { color: #ed25e3; }} @keyframes pulse {0% { color: #ed25e3; }25% { color: #9e2f03; }50% { color: #aaa208; }75% { color: #9e2f03; }100% { color: #ed25e3; }} .blink {\\t-webkit-animation: blink 2s linear infinite;\\tanimation: blink 2s linear infinite;\\tfont-weight: bold;\\tcolor: #00FF33; }\\t @-webkit-keyframes blink {\\t \\t0% { color: #00FF33; }\\t \\t 50% { color: #FFFFFF; }\\t \\t100% { color: #00FF33; } }\\t @keyframes blink {\\t\\t 0% { color: #00FF33; }\\t\\t50% { color: #FFFFFF; }\\t\\t100% { color: #00FF33; }}.hosts-table-fullsize {\\tborder: 1px solid;\\tborder-color:yellow;\\tborder-style: inset;\\t/*background: #333333;*/ }.hosts-table-fullsize td {\\tborder: 1px solid;\\tborder-style: inset;\\tborder-color:red;\\tpadding: 10px;\\ttext-align:center;\\tcolor:white;\\tfont-weight:bold;\\ttext-decoration:underline;*}.alarm-chr {\\tcolor: red;\\tvertical-align: sup;\\tanimation: blinker 0.5s linear infinite;} @keyframes blinker {    50% { opacity: 0; }}.info-chr {\\tsize: small;\\tanimation: blinker 1.5s linear infinite;} @keyframes blinker {    50% { opacity: 0; }}.alarm-msg {\\tfont-weight: bold;\\tcolor: red;\\tbackground-color: black;\\tsize: small;\\tposition: fixed;\\tbottom: 0.5em;\\tright: 10%;\\tanimation: blinker 2s linear infinite;} @keyframes blinker {  50% { opacity: 0; }}.hl-clear-fhosts-name {\\tcolor:red;}.hl-clear-fhosts-delim {\\tcolor:gold;}.hl-tor-fhosts-name {\\tcolor:green;}.hl-tor-fhosts-delim {\\tcolor:gold;}.hl-tor-ihosts-name {\\tcolor:green;}.hl-tor-ihosts-delim {\\tcolor:gold;}.hl-clear-ihosts-name {\\tcolor:red;}.hl-clear-ihosts-delim {\\tcolor:gold;}.hl-clear-unknown {\\tcolor:red;}.hl-tor-unknown {\\tcolor:green;}.all-hosts {text-align:center;}.all-hosts .big-container {display:inline-block;border-radius: 10px;background-color: #1F1F1F;color: #333366;border: 1px solid #00FFFF;padding: 1px;font-size: 1em;}.all-hosts .image-hosts-container,.all-hosts .file-hosts-container {display:inline-block;margin:5px;vertical-align:top;}.all-hosts .image-hosts-table,.all-hosts .file-hosts-table {\\tborder: 0px solid; }.all-hosts .image-hosts-table td,.all-hosts .file-hosts-table td {\\tborder: 1px solid;\\tborder-style: dotted;\\tborder-color: red;\\tpadding: 3px;\\ttext-align: center;\\tcolor: white;\\t/*font-weight:bold;*/\\ttext-decoration: underline;}.all-hosts .note {color:#00FF66;}.all-hosts .blink {\\tanimation: blink 2s linear infinite;\\tfont-weight: bold;\\tcolor: #00FF33; }\\t @keyframes blink {\\t\\t 0% { color: #00FF33; }\\t\\t50% { color: #FFFFFF; }\\t\\t100% { color: #00FF33; }}.fixed-hosts {position: fixed;top: 2px;right:4%;}.fixed-hosts table {border: 1px solid;border-color:orange;border-style: inset;}.fixed-hosts table tr {text-align:center;}.fixed-hosts table td {border: 1px solid;border-style: inset;border-color:orange;}.fixed-hosts .category {color:#00FF33;font-size:xx-small;font-style:italic;}.fixed-hosts .hostlink {font-size:xx-small;}.fixed-hosts-note {color:#00FF66;}.announcement-outer {text-align:center;}.announcement-outer .announcement {display:inline-block;border-radius: 30px;background-color: #111;/*color: #333366;*/color: DarkSeaGreen;border: 1px solid #00FFFF;padding: 10px;font-weight:bold;/*font-size: 1em;*/}.warning-announcement {\\tfont-weight: bold;\\tfont-size: large;\\tcolor: red;\\tanimation: blinker 2s linear infinite;} @keyframes blinker {\\t0% { color: #FF0000; }\\t50% { color: #FFFFFF; }\\t100% { color: #FF0000; }}.rulesbox {display:inline-block;padding: 10px;border-radius: 20px;background-color: rgba(0,0,0,0.5);/*border: 1px solid #00FFFF;*//*border: rgba(95,55,38,0.5) 2px double;*/border: 2px solid #00FFFF;box-shadow: 6px 5px 4px 3px rgba(0, 0, 0, .65);margin: 5px;}.msg{max-height:230px;overflow:auto;}.help #JavaScriptCheck{display:none;}.login h2:nth-of-type(1){display:none;}.login #HelpPage01{display:none;}.help h2:nth-of-type(1){display:none;}label:hover,input[type=\"checkbox\"]:hover, input[type=\"submit\"]:hover { color:Pink; background-color:#000099; }#exitbutton:hover { color:pink; background-color:#ff00a2; }.delbutton{border: 1px solid #ff00a6;}body{\\ttext-align:center;\\tbackground:\\tbackground-color: black;\\tcolor:Pink;\\t}.rainbow {  background-image: -webkit-gradient( linear, left top, right top, color-stop(0, #f22), color-stop(0.15, #f2f), color-stop(0.3, #22f), color-stop(0.45, #2ff), color-stop(0.6, #2f2),color-stop(0.75, #2f2), color-stop(0.9, #ff2), color-stop(1, #f22) );  background-image: gradient( linear, left top, right top, color-stop(0, #f22), color-stop(0.15, #f2f), color-stop(0.3, #22f), color-stop(0.45, #2ff), color-stop(0.6, #2f2),color-stop(0.75, #2f2), color-stop(0.9, #ff2), color-stop(1, #f22) );  color:transparent;  -webkit-background-clip: text;  background-clip: text;}.msg {max-height: none;}.txtblink{animation:blinker 2s step-start infinite;}@keyframes blinker{50%{opacity:0;}}/*css for banner begin*/ .banner_cshout{    margin: auto;    width: 70%;\\tborder: 2px solid;            color: \\tborder-radius: 7px;\\tpadding: 10px;    text-align: center;    /*background-color: rgba(105, 105, 105, 0.5);*/}.banner_cshout_headline{    color:     font-weight:bold;    font-style: normal;    font-family: Arial, Helvetica, sans-serif;}.banner_cshout_text{    color: #FFFFFF;    font-style: normal;    font-weight: normal;    font-family: Arial, Helvetica, sans-serif;}.banner_shout{    margin: auto;    width: 70%;\\tborder: 2px solid #FF0000;\\tborder-radius: 7px;\\tpadding: 10px;    text-align: center;    /*background-color: rgba(105, 105, 105, 0.5);*/}.banner_shout{    margin: auto;    width: 70%;\\tborder: 2px solid #FF0000;\\tborder-radius: 7px;\\tpadding: 10px;    text-align: center;    /*background-color: rgba(105, 105, 105, 0.5);*/}.banner_shout_headline{    color: #FF0000;    font-weight:bold;    font-style: normal;    font-family: Arial, Helvetica, sans-serif;}.banner_shout_text{    color: #FFFFFF;    font-style: normal;    font-weight: normal;    font-family: Arial, Helvetica, sans-serif;}.banner_links{    margin: auto;    width: 70%;\\tborder: 2px solid #FFFF00;\\tborder-radius: 7px;\\tpadding: 10px;    text-align: center;    /*background-color: rgba(105, 105, 105, 0.5);*/}.banner_links_headline{    color: #FFFF00;    font-weight:bold;    font-style: normal;    font-family: Arial, Helvetica, sans-serif;}.banner_links_text{    color: #FFFFFF;    font-style: normal;    font-weight: normal;    font-family: Arial, Helvetica, sans-serif;}.banner_rules{    margin: auto;    width: 70%;\\tborder: 2px solid #0080FF;\\tborder-radius: 7px;\\tpadding: 10px;    text-align: center;    /*background-color: rgba(105, 105, 105, 0.5);*/}.banner_rules_headline{    color: #0080FF;    font-weight:bold;    font-style: normal;    font-family: Arial, Helvetica, sans-serif;}.banner_rules_text{    color: #FFFFFF;    font-style: normal;    font-weight: normal;    font-family: Arial, Helvetica, sans-serif;}.banner_warning{    margin: auto;    width: 70%;\\tborder: 2px solid #FF9900;\\tborder-radius: 7px;\\tpadding: 10px;    text-align: center;    /*background-color: rgba(105, 105, 105, 0.5);*/}.banner_warning_headline{    color: #FF9900;    font-weight:bold;    font-style: normal;    font-family: Arial, Helvetica, sans-serif;}.banner_warning_text{    color: #FFFFFF;    font-style: normal;    font-weight: normal;    font-family: Arial, Helvetica, sans-serif;}.banner_information{    margin: auto;    width: 70%;\\tborder: 2px solid #03FF00;\\tborder-radius: 7px;\\tpadding: 10px;    text-align: center;    /*background-color: rgba(105, 105, 105, 0.5);*/}.banner_information_headline{    color: #03FF00;    font-weight:bold;    font-style: normal;    font-family: Arial, Helvetica, sans-serif;}.banner_information_text{    color: #FFFFFF;    font-style: normal;    font-weight: normal;    font-family: Arial, Helvetica, sans-serif;}.banner_welcome{    margin: auto;    width: 70%;\\tborder: 2px solid #03CDFF;\\tborder-radius: 7px;\\tpadding: 10px;    text-align: center;    /*background-color: rgba(105, 105, 105, 0.5);*/}.banner_welcome_headline{    color: #03CDFF;    font-weight:bold;    font-style: normal;    font-family: Arial, Helvetica, sans-serif;}.banner_welcome_text{    color: #FFFFFF;    font-style: normal;    font-weight: normal;    font-family: Arial, Helvetica, sans-serif;}/*css for banner end*/.lfrlnk {    display: inline-block; /* to stop breaking to wrap it */    color: white;    border-bottom: solid 1px white;    padding-right: 3px;    padding-left: 3px;}.lfrlnk:hover{    border: solid 1px white;    background-color: grey;    border-radius: 5px;    padding-left: 2px;    padding-right: 2px;}.lfrlnka {    color: aqua;}.lfrlnkg {    color: red;}.tagcol {    font-family: Georgia;    font-weight: bold;    color: pink;}.msg .delbutton_inline_removable {    background-color: transparent;    color: #ff00ea;}.msg .delbutton_inline_removable:hover {    background-color: grey;}#captcha img:hover{  transform: scale(2.0);}</style></head><body class=\"login\"><h1 id=\"chatname\"></h1><form action=\"/chat.php\" enctype=\"multipart/form-data\" method=\"post\" target=\"_parent\"><input type=\"hidden\" name=\"lang\" value=\"en\"><input type=\"hidden\" name=\"nc\" value=\"013711\"><input type=\"hidden\" name=\"action\" value=\"login\"><table><tbody><tr><td>Nickname:</td><td><input type=\"text\" name=\"nick\" size=\"15\" autocomplete=\"username\" autofocus=\"\"></td></tr><tr><td>Password:</td><td><input type=\"password\" name=\"pass\" size=\"15\" autocomplete=\"current-password\"></td></tr><tr id=\"captcha\"><td>Copy:<br><img alt=\"\" src=\"data:image/gif;base64,R0lGODdhNwAYAIAAAAQCBPz+/CwAAAAANwAYAAACV4SPqcvtD6OctNqLs968+88FARiJpoic2WlWqPG+myzJ43HPebk3KP3rwYQO2qOVQCaJPqaCFYOmnAsjRIkzWovU6gj4zW25pKVLCoJ2y+y2+w2Py+eYAgA7\" width=\"55\" height=\"24\"></td><td><input type=\"hidden\" name=\"challenge\" value=\"1411280214\"><input type=\"text\" name=\"captcha\" size=\"15\" autocomplete=\"off\"></td></tr><tr><td colspan=\"2\">Guests, choose a colour:<br><select name=\"colour\"><option value=\"\">* Random Colour *</option><option value=\"F5F5DC\" style=\"color:#F5F5DC;\">Beige</option><option value=\"8A2BE2\" style=\"color:#8A2BE2;\">Blue violet</option><option value=\"A52A2A\" style=\"color:#A52A2A;\">Brown</option><option value=\"00FFFF\" style=\"color:#00FFFF;\">Cyan</option><option value=\"00BFFF\" style=\"color:#00BFFF;\">Sky blue</option><option value=\"FFD700\" style=\"color:#FFD700;\">Gold</option><option value=\"808080\" style=\"color:#808080;\">Grey</option><option value=\"008000\" style=\"color:#008000;\">Green</option><option value=\"FF69B4\" style=\"color:#FF69B4;\">Hot pink</option><option value=\"ADD8E6\" style=\"color:#ADD8E6;\">Light blue</option><option value=\"90EE90\" style=\"color:#90EE90;\">Light green</option><option value=\"32CD32\" style=\"color:#32CD32;\">Lime green</option><option value=\"FF00FF\" style=\"color:#FF00FF;\">Magenta</option><option value=\"808000\" style=\"color:#808000;\">Olive</option><option value=\"FFA500\" style=\"color:#FFA500;\">Orange</option><option value=\"FF4500\" style=\"color:#FF4500;\">Orange red</option><option value=\"FF0000\" style=\"color:#FF0000;\">Red</option><option value=\"4169E1\" style=\"color:#4169E1;\">Royal blue</option><option value=\"2E8B57\" style=\"color:#2E8B57;\">Sea green</option><option value=\"A0522D\" style=\"color:#A0522D;\">Sienna</option><option value=\"C0C0C0\" style=\"color:#C0C0C0;\">Silver</option><option value=\"D2B48C\" style=\"color:#D2B48C;\">Tan</option><option value=\"008080\" style=\"color:#008080;\">Teal</option><option value=\"EE82EE\" style=\"color:#EE82EE;\">Violet</option><option value=\"FFFFFF\" style=\"color:#FFFFFF;\">White</option><option value=\"FFFF00\" style=\"color:#FFFF00;\">Yellow</option><option value=\"9ACD32\" style=\"color:#9ACD32;\">Yellow green</option></select></td></tr><tr><td colspan=\"2\"><input type=\"submit\" value=\"Enter Chat\"></td></tr></tbody></table></form><div id=\"chatters\">Currently 97 chatter(s) in the room<br></div><nobr>Members: &nbsp;</nobr><br><br>Guests: &nbsp;<span style=\"color:#C0C0C0;\">FantasyDad</span> &nbsp; <span style=\"color:#00BFFF;\">vpoc</span> &nbsp; <span style=\"color:#73571F;\">lollipops</span> &nbsp; <span style=\"color:#347ba2;\">qwertyo</span> &nbsp; <span style=\"color:#d0e32b;\">KIm</span> &nbsp; <span style=\"color:#FF00FF;\">momndau</span> &nbsp; <span style=\"color:#21B5F2;\">gody</span> &nbsp; <span style=\"color:#57E972;\">xdfhdxr</span> &nbsp; <span style=\"color:#04CEA2;\">Huiitrr</span> &nbsp; <span style=\"color:#FF69B4;\">Peyote</span> &nbsp; <span style=\"color:#ACA10B;\">hzjsjsjsjsjjn</span> &nbsp; <span style=\"color:#B735C8;\">pfan</span> &nbsp; <span style=\"color:#F0775A;\">putita</span> &nbsp; <span style=\"color:#BB9A30;\">Person</span> &nbsp; <span style=\"color:#1DA0D0;\">alexbasic</span> &nbsp; <span style=\"color:#DA08D7;\">jojo</span> &nbsp; <span style=\"color:#66C3C3;\">loki</span> &nbsp; <span style=\"color:#DCD9BA;\">koiyu</span> &nbsp; <span style=\"color:#C9EFFF;\">franvisdafa</span> &nbsp; <span style=\"color:#785E46;\">goofy</span> &nbsp; <span style=\"color:#498DA1;\">bubbab</span> &nbsp; <span style=\"color:#89F83A;\">fredas</span> &nbsp; <span style=\"color:#40E734;\">dlndbfjj</span> &nbsp; <span style=\"color:#A215A9;\">frankgg</span> &nbsp; <span style=\"color:#78B21C;\">AmolesMan</span> &nbsp; <span style=\"color:#D6E873;\">Viololet</span> &nbsp; <span style=\"color:#B3B118;\">CHang</span> &nbsp; <span style=\"color:#FFFFFF;\">tioper</span> &nbsp; <span style=\"color:#00FFFF;\">lion</span> &nbsp; <span style=\"color:#9AC907;\">thor</span> &nbsp; <span style=\"color:#f0fae1;\">zoober</span> &nbsp; <span style=\"color:#C043DC;\">tanaq</span> &nbsp; <span style=\"color:#B2F9EA;\">lilly</span> &nbsp; <span style=\"color:#CE9730;\">Jury</span> &nbsp; <span style=\"color:#6EE8B2;\">fantasie</span> &nbsp; <span style=\"color:#00FFFF;\">pieta</span> &nbsp; <span style=\"color:#96BF07;\">Ololo</span> &nbsp; <span style=\"color:#B78349;\">Dramdre</span> &nbsp; <span style=\"color:#90589d;\">kiwilover</span> &nbsp; <span style=\"color:#00BFFF;\">gravelman</span> &nbsp; <span style=\"color:#256F18;\">burned</span> &nbsp; <span style=\"color:#FF69B4;\">bibi</span> &nbsp; <span style=\"color:#6CB917;\">teenfucker</span> &nbsp; <span style=\"color:#2B49BD;\">walldo</span> &nbsp; <span style=\"color:#03D834;\">dirty</span> &nbsp; <span style=\"color:#CC18A7;\">Badoka</span> &nbsp; <span style=\"color:#888FAC;\">Paul</span> &nbsp; <span style=\"color:#3FA857;\">lalalalala</span> &nbsp; <span style=\"color:#555E7D;\">jhhjjkhjl</span> &nbsp; <span style=\"color:#2EF1DA;\">Melly</span> &nbsp; <span style=\"color:#B5F4C9;\">topper</span> &nbsp; <span style=\"color:#C8DC36;\">splittersplat</span> &nbsp; <span style=\"color:#D1CBFD;\">kiilo</span> &nbsp; <span style=\"color:#FC7DB2;\">denise</span> &nbsp; <span style=\"color:#B4DA1A;\">rarot</span> &nbsp; <span style=\"color:#A669FE;\">BRdoido</span> &nbsp; <span style=\"color:#BC1C6E;\">ghogjbbgh</span> &nbsp; <span style=\"color:#36B2D6;\">samwill</span> &nbsp; <span style=\"color:#F9D9FA;\">felber</span> &nbsp; <span style=\"color:#5EA32B;\">xoomi</span> &nbsp; <span style=\"color:#CD5F3C;\">bally</span> &nbsp; <span style=\"color:#B0E3FB;\">Alma</span> &nbsp; <span style=\"color:#6F5EE5;\">redemer</span> &nbsp; <span style=\"color:#017A38;\">hgggfh</span> &nbsp; <span style=\"color:#63B1DF;\">snizzle</span> &nbsp; <span style=\"color:#7F9E6B;\">joppss</span> &nbsp; <span style=\"color:#83DD74;\">cumkick</span> &nbsp; <span style=\"color:#7B5025;\">MrCezar</span> &nbsp; <span style=\"color:#98FAB1;\">Dudrto</span> &nbsp; <span style=\"color:#E0D564;\">MisterT</span> &nbsp; <span style=\"color:#209040;\">awdadw</span> &nbsp; <span style=\"color:#87DB04;\">jejejeje</span> &nbsp; <span style=\"color:#FF0000;\">naughty</span> &nbsp; <span style=\"color:#EF04EF;\">cizy</span> &nbsp; <span style=\"color:#25F5B9;\">sickkdidd</span> &nbsp; <span style=\"color:#12C31C;\">drndi</span> &nbsp; <span style=\"color:#D02E7D;\">tret</span> &nbsp; <span style=\"color:#F4CBE4;\">gday</span> &nbsp; <span style=\"color:#BC7D9B;\">princrxr</span> &nbsp; <span style=\"color:#8E65B5;\">gertu</span> &nbsp; <span style=\"color:#81BBD2;\">jj</span> &nbsp; <span style=\"color:#4C9856;\">Terry</span> &nbsp; <span style=\"color:#C3DD16;\">asedrf</span> &nbsp; <span style=\"color:#a52a2a;\">kimmpy</span> &nbsp; <span style=\"color:#10C2AC;\">goobs</span> &nbsp; <span style=\"color:#762E81;\">tilly</span> &nbsp; <span style=\"color:#9A7761;\">kakkaalaalaallala</span> &nbsp; <span style=\"color:#EB89C7;\">Veronica</span> &nbsp; <span style=\"color:#C050BD;\">freefall</span> &nbsp; <span style=\"color:#4AE3FB;\">loolly</span> &nbsp; <span style=\"color:#de84eb;\">goldernone</span> &nbsp; <span style=\"color:#2CB1CF;\">cdlover</span> &nbsp; <span style=\"color:#E1C83B;\">sipslit</span> &nbsp; <span style=\"color:#0ECBD0;\">nurbs</span> &nbsp; <span style=\"color:#823F6F;\">Justine</span> &nbsp; <span style=\"color:#FA401C;\">KHjljhsdjklh</span> &nbsp; <span style=\"color:#906247;\">JacksonJack</span> &nbsp; <br><br><div id=\"topic\"><center>* READ THE RULES A READABLE NICK NAME NO MISSPELLED WORD OR BE REMOVED *</center>!!! VIDEO CAN ONLY BE POSTED BY MEMBERS !!!BOYS AND GIRLS - 11 to 19 years old only if your caught posting younger you will be kicked</div><div id=\"rules\"><h2>Rules</h2><b><div id=\"rules\" style=\"text-align: center; font-weight: bold; font-size: 20px; line-height: 1.6;\">💖🍒<span style=\"color: #00ffff; text-decoration: underline;\" \"=\"\"> P<span style=\"color: #cc99ff;\">lease </span>R<span style=\"color: #cc99ff;\">ead </span>A<span style=\"color: #cc99ff;\">ll </span>T<span style=\"color: #cc99ff;\">he </span>R<span style=\"color: #cc99ff;\">ules </span>O<span style=\"color: #cc99ff;\">f </span>T<span style=\"color: #cc99ff;\">he </span>C<span style=\"color: #cc99ff;\">hat </span>🍒💖<br><span style=\"color: #00ffff;\">💖 P<span style=\"color: #cc99ff;\">lease </span>G<span style=\"color: #cc99ff;\">reet </span>T<span style=\"color: #cc99ff;\">he </span>R<span style=\"color: #cc99ff;\">oom </span>A<span style=\"color: #cc99ff;\">s you </span>E<span style=\"color: #cc99ff;\">ntering </span>T<span style=\"color: #cc99ff;\">he </span>C<span style=\"color: #cc99ff;\">hat 💖</span><br><span style=\"color: #cc99ff; font-size: 18px;\">💖🍒 <span style=\"color: #3366ff;\">BOYS </span>AND<span style=\"color: #ff6666;\"> GIRLS</span> - <span style=\"color: red;\">11</span> to <span style=\"color: red;\">19</span> years old only 🍒💖</span><br><span style=\"font-size: 16px; color: red;\">NO HURTCORE, NO SELLING/SPAMMING<br>VIDEO CAN ONLY BE POSTED BY MEMBERS</span><br><span style=\"color: #ffff00; font-size: 16px;\">Please use only English on the main chat<br>Be respectful to your fellow chatters.<br>Nickname must be Readable and the spelling right<br>Requests for certain content allowed Only if you post something.</span><br></span></span></div></b></div><p id=\"changelang\">Change language: <a href=\"/chat.php?lang=ar\">العربية</a> <a href=\"/chat.php?lang=bg\">Български</a> <a href=\"/chat.php?lang=cs\">čeština</a> <a href=\"/chat.php?lang=de\">Deutsch</a> <a href=\"/chat.php?lang=en\">English</a> <a href=\"/chat.php?lang=es\">Español</a> <a href=\"/chat.php?lang=fi\">Suomi</a> <a href=\"/chat.php?lang=fr\">Français</a> <a href=\"/chat.php?lang=id\">Bahasa Indonesia</a> <a href=\"/chat.php?lang=it\">Italiano</a> <a href=\"/chat.php?lang=pt\">Português</a> <a href=\"/chat.php?lang=ru\">Русский</a> <a href=\"/chat.php?lang=tr\">Türkçe</a> <a href=\"/chat.php?lang=uk\">Українська</a> <a href=\"/chat.php?lang=zh-Hans\">简体中文</a> <a href=\"/chat.php?lang=zh-Hant\">正體中文</a></p></body></html>'"
      ]
     },
     "execution_count": 25,
     "metadata": {},
     "output_type": "execute_result"
    }
   ],
   "source": [
    "html"
   ]
  },
  {
   "cell_type": "code",
   "execution_count": 4,
   "metadata": {},
   "outputs": [
    {
     "name": "stdout",
     "output_type": "stream",
     "text": [
      "Stage 1\n",
      "Stage II\n",
      "==================captcha==================\n",
      "S\\NUN\n"
     ]
    },
    {
     "name": "stderr",
     "output_type": "stream",
     "text": [
      "/home/azureuser/.local/lib/python3.10/site-packages/transformers/generation/utils.py:1346: UserWarning: Using `max_length`'s default (20) to control the generation length. This behaviour is deprecated and will be removed from the config in v5 of Transformers -- we recommend using `max_new_tokens` to control the maximum length of the generation.\n",
      "  warnings.warn(\n"
     ]
    }
   ],
   "source": [
    "# Function to manually solve the captcha (or integrate with a captcha solving service)\n",
    "def solve_captcha(captcha_image: str) -> str:\n",
    "    \n",
    "    challenge = TextChallenge.from_selenium_element(None, captcha_image, None, None)\n",
    "\n",
    "    output = login_handler._handle_captcha_challenge(challenge, return_only=True)\n",
    "    \n",
    "    return output\n",
    "\n",
    "# Define the Tor proxy\n",
    "proxies = {\n",
    "    'http': 'socks5h://localhost:9050',\n",
    "    'https': 'socks5h://localhost:9050'\n",
    "}\n",
    "\n",
    "\n",
    "# Create a session object with Tor proxies\n",
    "with requests.Session() as session:\n",
    "    session.proxies.update(proxies)\n",
    "\n",
    "    # Define the URL of the initial pagehttp://jwzzevnbrletxx7e4nqmfv73mre7rjik6nktidduppjcei6xr75aybyd.onion/\n",
    "    initial_page_url = 'http://wg7ljicnzfrh7dhssrsqgiqhqe7vgzc2ovyit2zz5bgiolztieljmjyd.onion/chat.php'\n",
    "\n",
    "    # GET request to the initial page\n",
    "    initial_response = session.get(initial_page_url)\n",
    "    login_soup = BeautifulSoup(initial_response.text, 'html.parser')\n",
    "\n",
    "\n",
    "# grab captcha image data from the page\n",
    "captcha_img_data = login_soup.find('img')['src']\n",
    "# the captcha image data is a base64 encoded string\n",
    "# extract the base64 encoded string\n",
    "captcha_base64_encoded = captcha_img_data.split(',')[1]\n",
    "# decode the base64 encoded string\n",
    "captcha_bytes = base64.b64decode(captcha_base64_encoded)\n",
    "\n",
    "captcha_img_path = 'captcha.jpg'\n",
    "# save the decoded image to a file\n",
    "with open(captcha_img_path, 'wb') as f:\n",
    "    f.write(captcha_bytes)\n",
    "\n",
    "challenge_value = login_soup.select_one('input[name=\"challenge\"]')['value']\n",
    "captcha_value = solve_captcha(captcha_img_path)\n"
   ]
  },
  {
   "cell_type": "code",
   "execution_count": 22,
   "metadata": {},
   "outputs": [],
   "source": [
    "request = session.get(initial_page_url, proxies=proxies)"
   ]
  },
  {
   "cell_type": "code",
   "execution_count": 23,
   "metadata": {},
   "outputs": [
    {
     "data": {
      "text/plain": [
       "'http://wg7ljicnzfrh7dhssrsqgiqhqe7vgzc2ovyit2zz5bgiolztieljmjyd.onion/chat.php'"
      ]
     },
     "execution_count": 23,
     "metadata": {},
     "output_type": "execute_result"
    }
   ],
   "source": [
    "request.url"
   ]
  },
  {
   "cell_type": "code",
   "execution_count": 12,
   "metadata": {},
   "outputs": [
    {
     "name": "stdout",
     "output_type": "stream",
     "text": [
      "Login successful!\n"
     ]
    }
   ],
   "source": [
    "# Define the payload for POST request to login\n",
    "payload = {\n",
    "    'nick': username,\n",
    "    'pass': password,\n",
    "    'captcha': None,\n",
    "    'challenge': challenge_value,\n",
    "    'colour': 'FF0000'  # Example color value\n",
    "}\n",
    "\n",
    "# Send POST request to login\n",
    "login_response = session.post(initial_page_url, data=payload)\n",
    "\n",
    "# Check if login was successful\n",
    "if login_response.ok:\n",
    "    print(\"Login successful!\")\n",
    "    # You can now navigate or scrape other pages using the session\n",
    "else:\n",
    "    print(\"Login failed!\")"
   ]
  },
  {
   "cell_type": "code",
   "execution_count": 17,
   "metadata": {},
   "outputs": [
    {
     "data": {
      "text/plain": [
       "'http://wg7ljicnzfrh7dhssrsqgiqhqe7vgzc2ovyit2zz5bgiolztieljmjyd.onion/chat.php'"
      ]
     },
     "execution_count": 17,
     "metadata": {},
     "output_type": "execute_result"
    }
   ],
   "source": [
    "login_response.url"
   ]
  },
  {
   "cell_type": "code",
   "execution_count": 11,
   "metadata": {},
   "outputs": [],
   "source": [
    "page_html.text"
   ]
  },
  {
   "cell_type": "code",
   "execution_count": null,
   "metadata": {},
   "outputs": [],
   "source": [
    "html_content = login_response.text\n",
    "iframe = html.fromstring(html_content)"
   ]
  },
  {
   "cell_type": "code",
   "execution_count": null,
   "metadata": {},
   "outputs": [],
   "source": [
    "# find the word \"massivedisappointment\" in the iframe\n",
    "# this is the iframe that contains the chat\n",
    "iframe_src = iframe.xpath('//iframe[contains(text(), \"massivedisappointment\")]/@src')"
   ]
  },
  {
   "cell_type": "code",
   "execution_count": 4,
   "metadata": {},
   "outputs": [],
   "source": [
    "import requests\n",
    "from bs4 import BeautifulSoup\n",
    "import base64\n",
    "import os\n",
    "\n",
    "def download_captcha_images(url, n, save_dir=\"captchas\"):\n",
    "    \"\"\"\n",
    "    Downloads captcha images from a login page.\n",
    "\n",
    "    Args:\n",
    "        url (str): The URL of the login page.\n",
    "        n (int): Number of captcha images to download.\n",
    "        save_dir (str): Directory to save the captcha images.\n",
    "    \"\"\"\n",
    "    if not os.path.exists(save_dir):\n",
    "        os.makedirs(save_dir)\n",
    "\n",
    "    proxies = {\n",
    "            'http': 'socks5h://localhost:9050',\n",
    "            'https': 'socks5h://localhost:9050'\n",
    "            }\n",
    "        \n",
    "    # check if save_dir exists\n",
    "    if not os.path.exists(save_dir):\n",
    "        os.makedirs(save_dir)\n",
    "    # check how many captcha images already exist in save_dir\n",
    "    existing_files = os.listdir(save_dir)\n",
    "    n_existing = len(existing_files)\n",
    "    \n",
    "    for i in range(n):\n",
    "        response = session.get(url, proxies=proxies)\n",
    "        if response.ok:\n",
    "            soup = BeautifulSoup(response.content, 'html.parser')\n",
    "            captcha_img_tag = soup.find('img')\n",
    "            if captcha_img_tag:\n",
    "                captcha_data = captcha_img_tag['src'].split(',')[1]\n",
    "                captcha_bytes = base64.b64decode(captcha_data)\n",
    "                captcha_path = os.path.join(save_dir, f'captcha_{i+n_existing}.jpg')\n",
    "                \n",
    "                with open(captcha_path, 'wb') as f:\n",
    "                    f.write(captcha_bytes)\n",
    "                print(f\"Captcha {i+1} downloaded.\")\n",
    "            else:\n",
    "                print(f\"No captcha found on attempt {i+1}.\")\n",
    "        else:\n",
    "            print(f\"Failed to access the login page on attempt {i+1}.\")\n",
    "        time.sleep(np.random.randint(5, 10))"
   ]
  },
  {
   "cell_type": "code",
   "execution_count": 36,
   "metadata": {},
   "outputs": [
    {
     "name": "stdout",
     "output_type": "stream",
     "text": [
      "Captcha 1 downloaded.\n",
      "Captcha 2 downloaded.\n",
      "Captcha 3 downloaded.\n",
      "Captcha 4 downloaded.\n",
      "Captcha 5 downloaded.\n",
      "Captcha 6 downloaded.\n",
      "Captcha 7 downloaded.\n",
      "Captcha 8 downloaded.\n",
      "Captcha 9 downloaded.\n",
      "Captcha 10 downloaded.\n",
      "Captcha 11 downloaded.\n",
      "Captcha 12 downloaded.\n",
      "Captcha 13 downloaded.\n",
      "Captcha 14 downloaded.\n",
      "Captcha 15 downloaded.\n",
      "Captcha 16 downloaded.\n",
      "Captcha 17 downloaded.\n",
      "Captcha 18 downloaded.\n",
      "Captcha 19 downloaded.\n",
      "Captcha 20 downloaded.\n",
      "Captcha 21 downloaded.\n",
      "Captcha 22 downloaded.\n",
      "Captcha 23 downloaded.\n",
      "Captcha 24 downloaded.\n",
      "Captcha 25 downloaded.\n",
      "Captcha 26 downloaded.\n",
      "Captcha 27 downloaded.\n",
      "Captcha 28 downloaded.\n",
      "Captcha 29 downloaded.\n",
      "Captcha 30 downloaded.\n",
      "Captcha 31 downloaded.\n",
      "Captcha 32 downloaded.\n",
      "Captcha 33 downloaded.\n",
      "Captcha 34 downloaded.\n",
      "Captcha 35 downloaded.\n",
      "Captcha 36 downloaded.\n",
      "Captcha 37 downloaded.\n",
      "Captcha 38 downloaded.\n",
      "Captcha 39 downloaded.\n",
      "Captcha 40 downloaded.\n",
      "Captcha 41 downloaded.\n",
      "Captcha 42 downloaded.\n",
      "Captcha 43 downloaded.\n",
      "Captcha 44 downloaded.\n",
      "Captcha 45 downloaded.\n",
      "Captcha 46 downloaded.\n",
      "Captcha 47 downloaded.\n",
      "Captcha 48 downloaded.\n",
      "Captcha 49 downloaded.\n",
      "Captcha 50 downloaded.\n"
     ]
    }
   ],
   "source": [
    "page_url = 'http://wg7ljicnzfrh7dhssrsqgiqhqe7vgzc2ovyit2zz5bgiolztieljmjyd.onion/chat.php'\n",
    "save_dir = 'temp/captchas' \n",
    "n_captchas = 50\n",
    "\n",
    "download_captcha_images(page_url, n_captchas, save_dir=save_dir)"
   ]
  },
  {
   "cell_type": "code",
   "execution_count": 5,
   "metadata": {},
   "outputs": [],
   "source": [
    "from captcha_solver.solvers.model_apis.image2text import * \n",
    "import re\n",
    "import matplotlib.pyplot as plt"
   ]
  },
  {
   "cell_type": "code",
   "execution_count": 6,
   "metadata": {},
   "outputs": [
    {
     "name": "stdout",
     "output_type": "stream",
     "text": [
      "\n",
      "\f\n"
     ]
    },
    {
     "data": {
      "text/plain": [
       "''"
      ]
     },
     "execution_count": 6,
     "metadata": {},
     "output_type": "execute_result"
    },
    {
     "data": {
      "image/png": "[encoded data removed]",
      "text/plain": [
       "<Figure size 432x288 with 1 Axes>"
      ]
     },
     "metadata": {
      "needs_background": "light"
     },
     "output_type": "display_data"
    }
   ],
   "source": [
    "image_path = 'temp/captchas/captcha_35.jpg'\n",
    "img = pre_process(image_path)\n",
    "plt.imshow(img)\n",
    "captcha_text = get_text(image_path)\n",
    "print(captcha_text)\n",
    "# remove new line and space characters and \\x characters\n",
    "captcha_text = re.sub(r'[\\n\\s\\x0c]', '', captcha_text)\n",
    "captcha_text"
   ]
  }
 ],
 "metadata": {
  "kernelspec": {
   "display_name": "Python 3",
   "language": "python",
   "name": "python3"
  },
  "language_info": {
   "codemirror_mode": {
    "name": "ipython",
    "version": 3
   },
   "file_extension": ".py",
   "mimetype": "text/x-python",
   "name": "python",
   "nbconvert_exporter": "python",
   "pygments_lexer": "ipython3",
   "version": "3.9.6"
  }
 },
 "nbformat": 4,
 "nbformat_minor": 2
}
