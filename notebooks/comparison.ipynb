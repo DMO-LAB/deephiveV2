{
 "cells": [
  {
   "cell_type": "code",
   "execution_count": 1,
   "metadata": {},
   "outputs": [
    {
     "name": "stdout",
     "output_type": "stream",
     "text": [
      "['/Users/elotech/Desktop/DeepHiveV2/notebooks', '/opt/homebrew/Cellar/python@3.11/3.11.7/Frameworks/Python.framework/Versions/3.11/lib/python311.zip', '/opt/homebrew/Cellar/python@3.11/3.11.7/Frameworks/Python.framework/Versions/3.11/lib/python3.11', '/opt/homebrew/Cellar/python@3.11/3.11.7/Frameworks/Python.framework/Versions/3.11/lib/python3.11/lib-dynload', '', '/Users/elotech/.virtualenvs/mlEnv/lib/python3.11/site-packages', '/Users/elotech/Documents/CODES/array-scaler', '/Users/elotech/Desktop/DeepHiveV2/src', '/opt/homebrew/opt/python-tk@3.11/libexec']\n",
      "Using device: cpu\n"
     ]
    }
   ],
   "source": [
    "import os \n",
    "import numpy as np\n",
    "\n",
    "import sys\n",
    "print(sys.path)\n",
    "\n",
    "from deephive.environment.deephive_utils import *\n",
    "from deephive.environment.utils import *"
   ]
  },
  {
   "cell_type": "code",
   "execution_count": 2,
   "metadata": {},
   "outputs": [],
   "source": [
    "# config_path = \"config/config.json\"\n",
    "# # load config\n",
    "# config = parse_config(config_path)\n",
    "\n",
    "compare_num = 1\n",
    "log_scale = True\n",
    "all_symbols = [\"-\", \"--\", \"-\", \"--\", \"-\", \"--\"]\n",
    "all_colors = [\"r\", \"g\", \"b\", \"k\", \"m\", \"y\"]\n",
    "\n",
    "\n",
    "\n",
    "# load the .npy file in each experiment folder in the result_path\n",
    "\n",
    "def compare_experiments(exp_list, result_path, titles, log_scale=False, compare_num=1):\n",
    "    save_path = \"/Users/elotech/Desktop/DeepHiveV2/experiments/results/comparisons/comparison_\" + str(compare_num) +\".png\"\n",
    "\n",
    "    symbol_list = []\n",
    "    color_list = []\n",
    "    label_list = []\n",
    "    gbest_values = []\n",
    "    for i, exp_num in enumerate(exp_list):\n",
    "        exp_path = result_path + \"experiment_\" + str(exp_num) + \"/\"\n",
    "        # load the .npy file\n",
    "        gbest_values.append(np.load(exp_path + f\"experiment_{exp_num}.npy\") * -1)\n",
    "        # get the label\n",
    "        label_list.append(titles[i])\n",
    "        # get the symbol\n",
    "        symbol_list.append(all_symbols[i])\n",
    "        # get the color\n",
    "        color_list.append(all_colors[i])\n",
    "\n",
    "    # plot the gbest_values\n",
    "    plot_num_function_evaluation(fopt=np.array(gbest_values), label_list=label_list, symbol_list=symbol_list,\n",
    "                                 color_list=color_list, save_dir=save_path,\n",
    "                                 n_agents=10, opt_value=None, log_scale=log_scale)\n",
    "    \n",
    "    \n",
    "# compare_experiments(exp_list, result_path, compare_num, titles, log_scale=log_scale)"
   ]
  },
  {
   "cell_type": "code",
   "execution_count": 40,
   "metadata": {},
   "outputs": [],
   "source": [
    "result_path = \"/Users/elotech/Desktop/DeepHiveV2/experiments/results/\"\n",
    "exp_list = [2000, 2001, 2002, 2003, 2004, 2005]\n",
    "compare_num = 5\n",
    "log_scale = False\n",
    "#compare_experiments(exp_list=exp_list, result_path=result_path, titles=titles, log_scale=log_scale, compare_num=compare_num)"
   ]
  },
  {
   "cell_type": "code",
   "execution_count": 41,
   "metadata": {},
   "outputs": [],
   "source": [
    "def load_json(config_path):\n",
    "    with open(config_path, 'r') as f:\n",
    "        config = json.load(f)\n",
    "    return config\n",
    "\n",
    "def mean_confidence_interval(data, confidence=0.95):\n",
    "    # check if data is just a single array and reshape it to a 2D array\n",
    "    if len(data.shape) == 1:\n",
    "        data = data.reshape(1, -1)\n",
    "    a = 1.0 * np.array(data)\n",
    "    n = len(a)\n",
    "    m, se = np.mean(a, axis = 0), scipy.stats.sem(a)\n",
    "    h = se * scipy.stats.t.ppf((1 + confidence) / 2., n-1)\n",
    "    return m, m-h, m+h"
   ]
  },
  {
   "cell_type": "code",
   "execution_count": 56,
   "metadata": {},
   "outputs": [],
   "source": [
    "label_list = []\n",
    "gbest_values = []\n",
    "for i, exp_num in enumerate(exp_list):\n",
    "    exp_path = result_path + \"exp_\" + str(exp_num) + \"/\"\n",
    "    # load the .npy file\n",
    "    gbest_values.append(np.load(exp_path + f\"gbestVals.npy\") * -1)\n",
    "    # get the label\n",
    "    summary_json = load_json(exp_path + \"run_summary.json\")\n",
    "    title = summary_json[\"title\"]\n",
    "    label_list.append(title)"
   ]
  },
  {
   "cell_type": "code",
   "execution_count": 57,
   "metadata": {},
   "outputs": [],
   "source": [
    "result_comparision = []\n",
    "for i, gbest in enumerate(gbest_values):\n",
    "    mean, lower, upper = mean_confidence_interval(gbest)\n",
    "    result_comparision.append({\n",
    "        \"title\": label_list[i],\n",
    "        \"mean\": mean[-1],\n",
    "        \"lower\": lower[-1],\n",
    "        \"upper\": upper[-1],\n",
    "    })\n",
    "    #result_comparision[label_list[i]] = {\"mean\": mean[-1], \"lower\": lower[-1], \"upper\": upper[-1]}\n",
    "    \n",
    "    "
   ]
  },
  {
   "cell_type": "code",
   "execution_count": 58,
   "metadata": {},
   "outputs": [
    {
     "data": {
      "text/plain": [
       "[{'title': 'CEC17 Function 1 - NO SPLITTING-UNFREEZE',\n",
       "  'mean': 203.9946956178679,\n",
       "  'lower': 203.26454838310175,\n",
       "  'upper': 204.72484285263405},\n",
       " {'title': 'CEC17 Function 1 - SPLITTING-WITH STDs',\n",
       "  'mean': 201.76273159486092,\n",
       "  'lower': 201.23864784999557,\n",
       "  'upper': 202.28681533972627},\n",
       " {'title': 'CEC17 Function 1 - SPLITTING-WITH STDs - Dynamic-split',\n",
       "  'mean': 201.99037841798642,\n",
       "  'lower': 201.7030477597986,\n",
       "  'upper': 202.27770907617423},\n",
       " {'title': 'CEC17 Function 1 - SPLITTING-TWO POLICIES',\n",
       "  'mean': 201.58192001175743,\n",
       "  'lower': 200.75692039171477,\n",
       "  'upper': 202.4069196318001},\n",
       " {'title': 'CEC17 Function 1 - SPLITTING-TWO POLICIES - Dynamic-split',\n",
       "  'mean': 201.67400865485885,\n",
       "  'lower': 201.24072814564937,\n",
       "  'upper': 202.10728916406833},\n",
       " {'title': 'CEC17 Function 1 - PSO',\n",
       "  'mean': 205.6213291487532,\n",
       "  'lower': 203.22781225608102,\n",
       "  'upper': 208.0148460414254}]"
      ]
     },
     "execution_count": 58,
     "metadata": {},
     "output_type": "execute_result"
    }
   ],
   "source": [
    "result_comparision"
   ]
  },
  {
   "cell_type": "code",
   "execution_count": 59,
   "metadata": {},
   "outputs": [],
   "source": [
    "# create a dataframe from the result_comparision\n",
    "import pandas as pd\n",
    "df = pd.DataFrame(result_comparision)\n",
    "df.to_csv(\"/Users/elotech/Desktop/DeepHiveV2/experiments/results/comparison_\" + str(compare_num) +\".csv\")"
   ]
  },
  {
   "cell_type": "code",
   "execution_count": 60,
   "metadata": {},
   "outputs": [
    {
     "data": {
      "text/html": [
       "<div>\n",
       "<style scoped>\n",
       "    .dataframe tbody tr th:only-of-type {\n",
       "        vertical-align: middle;\n",
       "    }\n",
       "\n",
       "    .dataframe tbody tr th {\n",
       "        vertical-align: top;\n",
       "    }\n",
       "\n",
       "    .dataframe thead th {\n",
       "        text-align: right;\n",
       "    }\n",
       "</style>\n",
       "<table border=\"1\" class=\"dataframe\">\n",
       "  <thead>\n",
       "    <tr style=\"text-align: right;\">\n",
       "      <th></th>\n",
       "      <th>title</th>\n",
       "      <th>mean</th>\n",
       "      <th>lower</th>\n",
       "      <th>upper</th>\n",
       "    </tr>\n",
       "  </thead>\n",
       "  <tbody>\n",
       "    <tr>\n",
       "      <th>0</th>\n",
       "      <td>CEC17 Function 1 - NO SPLITTING-UNFREEZE</td>\n",
       "      <td>203.994696</td>\n",
       "      <td>203.264548</td>\n",
       "      <td>204.724843</td>\n",
       "    </tr>\n",
       "    <tr>\n",
       "      <th>1</th>\n",
       "      <td>CEC17 Function 1 - SPLITTING-WITH STDs</td>\n",
       "      <td>201.762732</td>\n",
       "      <td>201.238648</td>\n",
       "      <td>202.286815</td>\n",
       "    </tr>\n",
       "    <tr>\n",
       "      <th>2</th>\n",
       "      <td>CEC17 Function 1 - SPLITTING-WITH STDs - Dynam...</td>\n",
       "      <td>201.990378</td>\n",
       "      <td>201.703048</td>\n",
       "      <td>202.277709</td>\n",
       "    </tr>\n",
       "    <tr>\n",
       "      <th>3</th>\n",
       "      <td>CEC17 Function 1 - SPLITTING-TWO POLICIES</td>\n",
       "      <td>201.581920</td>\n",
       "      <td>200.756920</td>\n",
       "      <td>202.406920</td>\n",
       "    </tr>\n",
       "    <tr>\n",
       "      <th>4</th>\n",
       "      <td>CEC17 Function 1 - SPLITTING-TWO POLICIES - Dy...</td>\n",
       "      <td>201.674009</td>\n",
       "      <td>201.240728</td>\n",
       "      <td>202.107289</td>\n",
       "    </tr>\n",
       "    <tr>\n",
       "      <th>5</th>\n",
       "      <td>CEC17 Function 1 - PSO</td>\n",
       "      <td>205.621329</td>\n",
       "      <td>203.227812</td>\n",
       "      <td>208.014846</td>\n",
       "    </tr>\n",
       "  </tbody>\n",
       "</table>\n",
       "</div>"
      ],
      "text/plain": [
       "                                               title        mean       lower  \\\n",
       "0           CEC17 Function 1 - NO SPLITTING-UNFREEZE  203.994696  203.264548   \n",
       "1             CEC17 Function 1 - SPLITTING-WITH STDs  201.762732  201.238648   \n",
       "2  CEC17 Function 1 - SPLITTING-WITH STDs - Dynam...  201.990378  201.703048   \n",
       "3          CEC17 Function 1 - SPLITTING-TWO POLICIES  201.581920  200.756920   \n",
       "4  CEC17 Function 1 - SPLITTING-TWO POLICIES - Dy...  201.674009  201.240728   \n",
       "5                             CEC17 Function 1 - PSO  205.621329  203.227812   \n",
       "\n",
       "        upper  \n",
       "0  204.724843  \n",
       "1  202.286815  \n",
       "2  202.277709  \n",
       "3  202.406920  \n",
       "4  202.107289  \n",
       "5  208.014846  "
      ]
     },
     "execution_count": 60,
     "metadata": {},
     "output_type": "execute_result"
    }
   ],
   "source": [
    "df"
   ]
  },
  {
   "cell_type": "code",
   "execution_count": 22,
   "metadata": {},
   "outputs": [],
   "source": [
    "from deephive.environment.optimization_functions.cec2017 import functions"
   ]
  },
  {
   "cell_type": "code",
   "execution_count": 23,
   "metadata": {},
   "outputs": [],
   "source": [
    "f1 = functions.all_functions[0]"
   ]
  },
  {
   "cell_type": "code",
   "execution_count": 35,
   "metadata": {},
   "outputs": [
    {
     "name": "stdout",
     "output_type": "stream",
     "text": [
      "[-133.77129983]\n"
     ]
    }
   ],
   "source": [
    "params = np.array([[-55.28, -70.43]])\n",
    "f_x = f1(params)\n",
    "print(f_x)"
   ]
  },
  {
   "cell_type": "code",
   "execution_count": 37,
   "metadata": {},
   "outputs": [
    {
     "data": {
      "text/plain": [
       "array([[0.2236, 0.1478]])"
      ]
     },
     "execution_count": 37,
     "metadata": {},
     "output_type": "execute_result"
    }
   ],
   "source": [
    "ScalingHelper.scale(params, d_min=-100, d_max=100)"
   ]
  }
 ],
 "metadata": {
  "kernelspec": {
   "display_name": "mlEnv",
   "language": "python",
   "name": "python3"
  },
  "language_info": {
   "codemirror_mode": {
    "name": "ipython",
    "version": 3
   },
   "file_extension": ".py",
   "mimetype": "text/x-python",
   "name": "python",
   "nbconvert_exporter": "python",
   "pygments_lexer": "ipython3",
   "version": "3.11.7"
  }
 },
 "nbformat": 4,
 "nbformat_minor": 2
}
