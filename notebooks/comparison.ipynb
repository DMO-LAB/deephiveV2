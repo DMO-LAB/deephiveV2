{
 "cells": [
  {
   "cell_type": "code",
   "execution_count": 3,
   "metadata": {},
   "outputs": [
    {
     "name": "stdout",
     "output_type": "stream",
     "text": [
      "['/Users/elotech/Desktop/DeepHiveV2/notebooks', '/opt/homebrew/Cellar/python@3.11/3.11.7/Frameworks/Python.framework/Versions/3.11/lib/python311.zip', '/opt/homebrew/Cellar/python@3.11/3.11.7/Frameworks/Python.framework/Versions/3.11/lib/python3.11', '/opt/homebrew/Cellar/python@3.11/3.11.7/Frameworks/Python.framework/Versions/3.11/lib/python3.11/lib-dynload', '', '/Users/elotech/.virtualenvs/mlEnv/lib/python3.11/site-packages', '/Users/elotech/Documents/CODES/array-scaler', '/Users/elotech/Desktop/DeepHiveV2/src', '/opt/homebrew/opt/python-tk@3.11/libexec']\n",
      "Using device: cpu\n"
     ]
    }
   ],
   "source": [
    "import os \n",
    "import numpy as np\n",
    "\n",
    "import sys\n",
    "print(sys.path)\n",
    "\n",
    "from deephive.environment.deephive_utils import *\n",
    "from deephive.environment.utils import *"
   ]
  },
  {
   "cell_type": "code",
   "execution_count": 12,
   "metadata": {},
   "outputs": [],
   "source": [
    "# config_path = \"config/config.json\"\n",
    "# # load config\n",
    "# config = parse_config(config_path)\n",
    "\n",
    "compare_num = 1\n",
    "log_scale = True\n",
    "all_symbols = [\"-\", \"--\", \"-\", \"--\", \"-\", \"--\"]\n",
    "all_colors = [\"r\", \"g\", \"b\", \"k\", \"m\", \"y\"]\n",
    "\n",
    "\n",
    "\n",
    "# load the .npy file in each experiment folder in the result_path\n",
    "\n",
    "def compare_experiments(exp_list, result_path, titles, log_scale=False, compare_num=1):\n",
    "    save_path = \"/Users/elotech/Desktop/DeepHiveV2/experiments/results/comparisons/comparison_\" + str(compare_num) +\".png\"\n",
    "\n",
    "    symbol_list = []\n",
    "    color_list = []\n",
    "    label_list = []\n",
    "    gbest_values = []\n",
    "    for i, exp_num in enumerate(exp_list):\n",
    "        exp_path = result_path + \"experiment_\" + str(exp_num) + \"/\"\n",
    "        # load the .npy file\n",
    "        gbest_values.append(np.load(exp_path + f\"experiment_{exp_num}.npy\"))\n",
    "        # get the label\n",
    "        label_list.append(titles[i])\n",
    "        # get the symbol\n",
    "        symbol_list.append(all_symbols[i])\n",
    "        # get the color\n",
    "        color_list.append(all_colors[i])\n",
    "\n",
    "    # plot the gbest_values\n",
    "    plot_num_function_evaluation(fopt=np.array(gbest_values), label_list=label_list, symbol_list=symbol_list,\n",
    "                                 color_list=color_list, save_dir=save_path,\n",
    "                                 n_agents=10, opt_value=4.808, log_scale=log_scale)\n",
    "    \n",
    "    \n",
    "# compare_experiments(exp_list, result_path, compare_num, titles, log_scale=log_scale)"
   ]
  },
  {
   "cell_type": "code",
   "execution_count": 13,
   "metadata": {},
   "outputs": [
    {
     "name": "stdout",
     "output_type": "stream",
     "text": [
      "Number of function evaluations: 100\n",
      "Number of algorithms: 4\n"
     ]
    }
   ],
   "source": [
    "result_path = \"/Users/elotech/Desktop/DeepHiveV2/experiments/results/\"\n",
    "exp_list = [1035,1036, 1038, 1028]\n",
    "titles = [\"split_agent[grid]-exploiter-std-decay\", \"split_agent[grid]-exploiter-std-decay-with delay\",\n",
    "          \"split-agents[grid]-constant-exploiter-std\",\n",
    "          \"no-split-agents-uniform-std with decay\"]\n",
    "\n",
    "compare_num = 5\n",
    "log_scale = False\n",
    "compare_experiments(exp_list=exp_list, result_path=result_path, titles=titles, log_scale=log_scale, compare_num=compare_num)"
   ]
  }
 ],
 "metadata": {
  "kernelspec": {
   "display_name": "mlEnv",
   "language": "python",
   "name": "python3"
  },
  "language_info": {
   "codemirror_mode": {
    "name": "ipython",
    "version": 3
   },
   "file_extension": ".py",
   "mimetype": "text/x-python",
   "name": "python",
   "nbconvert_exporter": "python",
   "pygments_lexer": "ipython3",
   "version": "3.11.7"
  }
 },
 "nbformat": 4,
 "nbformat_minor": 2
}
