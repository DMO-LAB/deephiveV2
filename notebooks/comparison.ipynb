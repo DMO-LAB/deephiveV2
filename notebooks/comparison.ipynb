{
 "cells": [
  {
   "cell_type": "code",
   "execution_count": 47,
   "metadata": {},
   "outputs": [
    {
     "name": "stdout",
     "output_type": "stream",
     "text": [
      "['/Users/elotech/Desktop/DeepHiveV2/notebooks', '/opt/homebrew/Cellar/python@3.11/3.11.7/Frameworks/Python.framework/Versions/3.11/lib/python311.zip', '/opt/homebrew/Cellar/python@3.11/3.11.7/Frameworks/Python.framework/Versions/3.11/lib/python3.11', '/opt/homebrew/Cellar/python@3.11/3.11.7/Frameworks/Python.framework/Versions/3.11/lib/python3.11/lib-dynload', '', '/Users/elotech/.virtualenvs/mlEnv/lib/python3.11/site-packages', '/Users/elotech/Documents/CODES/array-scaler', '/Users/elotech/Desktop/DeepHiveV2/src', '/opt/homebrew/opt/python-tk@3.11/libexec']\n",
      "Using device: cpu\n"
     ]
    }
   ],
   "source": [
    "import os \n",
    "import numpy as np\n",
    "\n",
    "import sys\n",
    "print(sys.path)\n",
    "\n",
    "from deephive.environment.deephive_utils import *\n",
    "from deephive.environment.utils import *"
   ]
  },
  {
   "cell_type": "code",
   "execution_count": 48,
   "metadata": {},
   "outputs": [],
   "source": [
    "# config_path = \"config/config.json\"\n",
    "# # load config\n",
    "# config = parse_config(config_path)\n",
    "\n",
    "compare_num = 1\n",
    "log_scale = True\n",
    "all_symbols = [\"-\", \"--\", \"-\", \"--\", \"-\", \"--\"]\n",
    "all_colors = [\"r\", \"g\", \"b\", \"k\", \"m\", \"y\"]\n",
    "\n",
    "\n",
    "\n",
    "# load the .npy file in each experiment folder in the result_path\n",
    "\n",
    "def compare_experiments(exp_list, result_path, titles, log_scale=False, compare_num=1):\n",
    "    save_path = \"/Users/elotech/Desktop/DeepHiveV2/experiments/results/comparisons/comparison_\" + str(compare_num) +\".png\"\n",
    "\n",
    "    symbol_list = []\n",
    "    color_list = []\n",
    "    label_list = []\n",
    "    gbest_values = []\n",
    "    for i, exp_num in enumerate(exp_list):\n",
    "        exp_path = result_path + \"experiment_\" + str(exp_num) + \"/\"\n",
    "        # load the .npy file\n",
    "        gbest_values.append(np.load(exp_path + f\"experiment_{exp_num}.npy\") * -1)\n",
    "        # get the label\n",
    "        label_list.append(titles[i])\n",
    "        # get the symbol\n",
    "        symbol_list.append(all_symbols[i])\n",
    "        # get the color\n",
    "        color_list.append(all_colors[i])\n",
    "\n",
    "    # plot the gbest_values\n",
    "    plot_num_function_evaluation(fopt=np.array(gbest_values), label_list=label_list, symbol_list=symbol_list,\n",
    "                                 color_list=color_list, save_dir=save_path,\n",
    "                                 n_agents=10, opt_value=None, log_scale=log_scale)\n",
    "    \n",
    "    \n",
    "# compare_experiments(exp_list, result_path, compare_num, titles, log_scale=log_scale)"
   ]
  },
  {
   "cell_type": "code",
   "execution_count": 55,
   "metadata": {},
   "outputs": [],
   "source": [
    "result_path = \"/Users/elotech/Desktop/DeepHiveV2/experiments/results_2/\"\n",
    "exp_list = [11, 12, 13, 14, 15, 16,17]\n",
    "compare_num = 5\n",
    "log_scale = False\n",
    "#compare_experiments(exp_list=exp_list, result_path=result_path, titles=titles, log_scale=log_scale, compare_num=compare_num)"
   ]
  },
  {
   "cell_type": "code",
   "execution_count": 56,
   "metadata": {},
   "outputs": [],
   "source": [
    "def load_json(config_path):\n",
    "    with open(config_path, 'r') as f:\n",
    "        config = json.load(f)\n",
    "    return config\n",
    "\n",
    "def mean_confidence_interval(data, confidence=0.95):\n",
    "    # check if data is just a single array and reshape it to a 2D array\n",
    "    if len(data.shape) == 1:\n",
    "        data = data.reshape(1, -1)\n",
    "    a = 1.0 * np.array(data)\n",
    "    n = len(a)\n",
    "    m, se = np.mean(a, axis = 0), scipy.stats.sem(a)\n",
    "    h = se * scipy.stats.t.ppf((1 + confidence) / 2., n-1)\n",
    "    return m, m-h, m+h"
   ]
  },
  {
   "cell_type": "code",
   "execution_count": 57,
   "metadata": {},
   "outputs": [],
   "source": [
    "label_list = []\n",
    "gbest_values = []\n",
    "for i, exp_num in enumerate(exp_list):\n",
    "    exp_path = result_path + \"exp_\" + str(exp_num) + \"/\"\n",
    "    # load the .npy file\n",
    "    gbest_values.append(np.load(exp_path + f\"gbestVals.npy\") * -1)\n",
    "    # get the label\n",
    "    summary_json = load_json(exp_path + \"run_summary.json\")\n",
    "    title = summary_json[\"title\"]\n",
    "    label_list.append(title)"
   ]
  },
  {
   "cell_type": "code",
   "execution_count": 68,
   "metadata": {},
   "outputs": [
    {
     "data": {
      "text/plain": [
       "array([[2957.98663343, 2957.98663343, 2957.98663343, ..., 2957.98663343,\n",
       "        2957.98663343, 2938.29746153],\n",
       "       [3020.72633759, 3020.72633759, 3020.72633759, ..., 3020.72633759,\n",
       "        3020.72633759, 3020.72633759],\n",
       "       [3011.28131056, 3011.28131056, 3011.28131056, ..., 3011.28131056,\n",
       "        3011.28131056, 3011.28131056],\n",
       "       ...,\n",
       "       [2979.24125436, 2979.24125436, 2979.24125436, ..., 2979.24125436,\n",
       "        2973.57949785, 2973.57949785],\n",
       "       [3060.34638492, 3060.34638492, 3060.34638492, ..., 3060.34638492,\n",
       "        3060.34638492, 3060.34638492],\n",
       "       [3010.32639354, 3010.32639354, 3010.32639354, ..., 3004.83544707,\n",
       "        3004.83544707, 3004.83544707]])"
      ]
     },
     "execution_count": 68,
     "metadata": {},
     "output_type": "execute_result"
    }
   ],
   "source": [
    "gbest_values[0][:, len(gbest_values[0][0])//2:]"
   ]
  },
  {
   "cell_type": "code",
   "execution_count": 87,
   "metadata": {},
   "outputs": [],
   "source": [
    "result_comparision = []\n",
    "for i, gbest in enumerate(gbest_values):\n",
    "    full_mean, full_lower, full_upper = mean_confidence_interval(gbest)\n",
    "    mid_mean, mid_lower, mid_upper = mean_confidence_interval(gbest[:, :len(gbest[0])//2])\n",
    "    result_comparision.append({\n",
    "        \"title\": label_list[i],\n",
    "        \"mean\": full_mean[-1],\n",
    "        \"lower\": full_lower[-1],\n",
    "        \"upper\": full_upper[-1],\n",
    "        \"mid_mean\": mid_mean[-1],\n",
    "        \"mid_lower\": mid_lower[-1],\n",
    "        \"mid_upper\": mid_upper[-1]\n",
    "    })\n",
    "    #result_comparision[label_list[i]] = {\"mean\": mean[-1], \"lower\": lower[-1], \"upper\": upper[-1]}\n",
    "    \n",
    "    "
   ]
  },
  {
   "cell_type": "code",
   "execution_count": 88,
   "metadata": {},
   "outputs": [
    {
     "data": {
      "text/plain": [
       "[{'title': 'CEC17 Function 27 - NO SPLITTING-UNFREEZE',\n",
       "  'mean': 2987.0136822308873,\n",
       "  'lower': 2974.5782222357448,\n",
       "  'upper': 2999.44914222603,\n",
       "  'mid_mean': 3009.054367228565,\n",
       "  'mid_lower': 2996.745468720921,\n",
       "  'mid_upper': 3021.3632657362086},\n",
       " {'title': 'CEC17 Function 27 - NO SPLITTING-DELAYED DECAY-FREEZE',\n",
       "  'mean': 2973.589800979984,\n",
       "  'lower': 2965.058110316528,\n",
       "  'upper': 2982.1214916434396,\n",
       "  'mid_mean': 3003.0397821212105,\n",
       "  'mid_lower': 2994.563571700699,\n",
       "  'mid_upper': 3011.515992541722},\n",
       " {'title': 'CEC17 Function 27 - SPLITTING-WITH STDs',\n",
       "  'mean': 2974.5718357079545,\n",
       "  'lower': 2961.942903277041,\n",
       "  'upper': 2987.200768138868,\n",
       "  'mid_mean': 3001.755708840909,\n",
       "  'mid_lower': 2989.396774314822,\n",
       "  'mid_upper': 3014.114643366996},\n",
       " {'title': 'CEC17 Function 27 - SPLITTING-WITH STDs - Dynamic-split',\n",
       "  'mean': 2983.779593009466,\n",
       "  'lower': 2963.518626986462,\n",
       "  'upper': 3004.0405590324704,\n",
       "  'mid_mean': 3005.1047472304704,\n",
       "  'mid_lower': 2986.743755569737,\n",
       "  'mid_upper': 3023.4657388912037},\n",
       " {'title': 'CEC17 Function 27 - SPLITTING-TWO POLICIES',\n",
       "  'mean': 2937.2631022954224,\n",
       "  'lower': 2919.376960889683,\n",
       "  'upper': 2955.149243701162,\n",
       "  'mid_mean': 2955.3740006251546,\n",
       "  'mid_lower': 2938.9002711981248,\n",
       "  'mid_upper': 2971.8477300521845},\n",
       " {'title': 'CEC17 Function 27 - SPLITTING-TWO POLICIES - Dynamic-split',\n",
       "  'mean': 2955.4393192253688,\n",
       "  'lower': 2938.764631697635,\n",
       "  'upper': 2972.1140067531023,\n",
       "  'mid_mean': 2967.118310670219,\n",
       "  'mid_lower': 2951.691155116258,\n",
       "  'mid_upper': 2982.5454662241805},\n",
       " {'title': 'CEC17 Function 27 - PSO',\n",
       "  'mean': 2919.6468705809066,\n",
       "  'lower': 2902.448759439638,\n",
       "  'upper': 2936.8449817221754,\n",
       "  'mid_mean': 2935.996424775038,\n",
       "  'mid_lower': 2920.486753574003,\n",
       "  'mid_upper': 2951.506095976073}]"
      ]
     },
     "execution_count": 88,
     "metadata": {},
     "output_type": "execute_result"
    }
   ],
   "source": [
    "result_comparision"
   ]
  },
  {
   "cell_type": "code",
   "execution_count": 89,
   "metadata": {},
   "outputs": [],
   "source": [
    "# create a dataframe from the result_comparision\n",
    "import pandas as pd\n",
    "df = pd.DataFrame(result_comparision)\n",
    "df.to_csv(\"/Users/elotech/Desktop/DeepHiveV2/experiments/results/comparison_\" + str(compare_num) +\".csv\")"
   ]
  },
  {
   "cell_type": "code",
   "execution_count": 90,
   "metadata": {},
   "outputs": [
    {
     "data": {
      "text/html": [
       "<div>\n",
       "<style scoped>\n",
       "    .dataframe tbody tr th:only-of-type {\n",
       "        vertical-align: middle;\n",
       "    }\n",
       "\n",
       "    .dataframe tbody tr th {\n",
       "        vertical-align: top;\n",
       "    }\n",
       "\n",
       "    .dataframe thead th {\n",
       "        text-align: right;\n",
       "    }\n",
       "</style>\n",
       "<table border=\"1\" class=\"dataframe\">\n",
       "  <thead>\n",
       "    <tr style=\"text-align: right;\">\n",
       "      <th></th>\n",
       "      <th>title</th>\n",
       "      <th>mean</th>\n",
       "      <th>lower</th>\n",
       "      <th>upper</th>\n",
       "      <th>mid_mean</th>\n",
       "      <th>mid_lower</th>\n",
       "      <th>mid_upper</th>\n",
       "    </tr>\n",
       "  </thead>\n",
       "  <tbody>\n",
       "    <tr>\n",
       "      <th>0</th>\n",
       "      <td>CEC17 Function 27 - NO SPLITTING-UNFREEZE</td>\n",
       "      <td>2987.013682</td>\n",
       "      <td>2974.578222</td>\n",
       "      <td>2999.449142</td>\n",
       "      <td>3009.054367</td>\n",
       "      <td>2996.745469</td>\n",
       "      <td>3021.363266</td>\n",
       "    </tr>\n",
       "    <tr>\n",
       "      <th>1</th>\n",
       "      <td>CEC17 Function 27 - NO SPLITTING-DELAYED DECAY...</td>\n",
       "      <td>2973.589801</td>\n",
       "      <td>2965.058110</td>\n",
       "      <td>2982.121492</td>\n",
       "      <td>3003.039782</td>\n",
       "      <td>2994.563572</td>\n",
       "      <td>3011.515993</td>\n",
       "    </tr>\n",
       "    <tr>\n",
       "      <th>2</th>\n",
       "      <td>CEC17 Function 27 - SPLITTING-WITH STDs</td>\n",
       "      <td>2974.571836</td>\n",
       "      <td>2961.942903</td>\n",
       "      <td>2987.200768</td>\n",
       "      <td>3001.755709</td>\n",
       "      <td>2989.396774</td>\n",
       "      <td>3014.114643</td>\n",
       "    </tr>\n",
       "    <tr>\n",
       "      <th>3</th>\n",
       "      <td>CEC17 Function 27 - SPLITTING-WITH STDs - Dyna...</td>\n",
       "      <td>2983.779593</td>\n",
       "      <td>2963.518627</td>\n",
       "      <td>3004.040559</td>\n",
       "      <td>3005.104747</td>\n",
       "      <td>2986.743756</td>\n",
       "      <td>3023.465739</td>\n",
       "    </tr>\n",
       "    <tr>\n",
       "      <th>4</th>\n",
       "      <td>CEC17 Function 27 - SPLITTING-TWO POLICIES</td>\n",
       "      <td>2937.263102</td>\n",
       "      <td>2919.376961</td>\n",
       "      <td>2955.149244</td>\n",
       "      <td>2955.374001</td>\n",
       "      <td>2938.900271</td>\n",
       "      <td>2971.847730</td>\n",
       "    </tr>\n",
       "    <tr>\n",
       "      <th>5</th>\n",
       "      <td>CEC17 Function 27 - SPLITTING-TWO POLICIES - D...</td>\n",
       "      <td>2955.439319</td>\n",
       "      <td>2938.764632</td>\n",
       "      <td>2972.114007</td>\n",
       "      <td>2967.118311</td>\n",
       "      <td>2951.691155</td>\n",
       "      <td>2982.545466</td>\n",
       "    </tr>\n",
       "    <tr>\n",
       "      <th>6</th>\n",
       "      <td>CEC17 Function 27 - PSO</td>\n",
       "      <td>2919.646871</td>\n",
       "      <td>2902.448759</td>\n",
       "      <td>2936.844982</td>\n",
       "      <td>2935.996425</td>\n",
       "      <td>2920.486754</td>\n",
       "      <td>2951.506096</td>\n",
       "    </tr>\n",
       "  </tbody>\n",
       "</table>\n",
       "</div>"
      ],
      "text/plain": [
       "                                               title         mean  \\\n",
       "0          CEC17 Function 27 - NO SPLITTING-UNFREEZE  2987.013682   \n",
       "1  CEC17 Function 27 - NO SPLITTING-DELAYED DECAY...  2973.589801   \n",
       "2            CEC17 Function 27 - SPLITTING-WITH STDs  2974.571836   \n",
       "3  CEC17 Function 27 - SPLITTING-WITH STDs - Dyna...  2983.779593   \n",
       "4         CEC17 Function 27 - SPLITTING-TWO POLICIES  2937.263102   \n",
       "5  CEC17 Function 27 - SPLITTING-TWO POLICIES - D...  2955.439319   \n",
       "6                            CEC17 Function 27 - PSO  2919.646871   \n",
       "\n",
       "         lower        upper     mid_mean    mid_lower    mid_upper  \n",
       "0  2974.578222  2999.449142  3009.054367  2996.745469  3021.363266  \n",
       "1  2965.058110  2982.121492  3003.039782  2994.563572  3011.515993  \n",
       "2  2961.942903  2987.200768  3001.755709  2989.396774  3014.114643  \n",
       "3  2963.518627  3004.040559  3005.104747  2986.743756  3023.465739  \n",
       "4  2919.376961  2955.149244  2955.374001  2938.900271  2971.847730  \n",
       "5  2938.764632  2972.114007  2967.118311  2951.691155  2982.545466  \n",
       "6  2902.448759  2936.844982  2935.996425  2920.486754  2951.506096  "
      ]
     },
     "execution_count": 90,
     "metadata": {},
     "output_type": "execute_result"
    }
   ],
   "source": [
    "df"
   ]
  },
  {
   "cell_type": "code",
   "execution_count": null,
   "metadata": {},
   "outputs": [],
   "source": [
    "from deephive.environment.optimization_functions.cec2017 import functions"
   ]
  },
  {
   "cell_type": "code",
   "execution_count": null,
   "metadata": {},
   "outputs": [],
   "source": [
    "f1 = functions.all_functions[0]"
   ]
  },
  {
   "cell_type": "code",
   "execution_count": null,
   "metadata": {},
   "outputs": [],
   "source": [
    "params = np.array([[-55.28, -70.43]])\n",
    "f_x = f1(params)\n",
    "print(f_x)"
   ]
  },
  {
   "cell_type": "code",
   "execution_count": null,
   "metadata": {},
   "outputs": [],
   "source": [
    "ScalingHelper.scale(params, d_min=-100, d_max=100)"
   ]
  },
  {
   "cell_type": "code",
   "execution_count": 91,
   "metadata": {},
   "outputs": [
    {
     "name": "stdout",
     "output_type": "stream",
     "text": [
      "Category Sales      Inventory    \n",
      "Quarter     Q1   Q2        Q1  Q2\n",
      "0          250  265        30  22\n",
      "1          275  260        25  24\n"
     ]
    }
   ],
   "source": [
    "import pandas as pd\n",
    "\n",
    "# Step 1: Define the column hierarchy\n",
    "columns = [\n",
    "    ('Sales', 'Q1'),\n",
    "    ('Sales', 'Q2'),\n",
    "    ('Inventory', 'Q1'),\n",
    "    ('Inventory', 'Q2')\n",
    "]\n",
    "\n",
    "# Step 2: Create the MultiIndex\n",
    "multi_index = pd.MultiIndex.from_tuples(columns, names=['Category', 'Quarter'])\n",
    "\n",
    "# Step 3: Create the DataFrame\n",
    "data = [\n",
    "    [250, 265, 30, 22],  # First row of data\n",
    "    [275, 260, 25, 24]   # Second row of data\n",
    "]\n",
    "\n",
    "df = pd.DataFrame(data, columns=multi_index)\n",
    "\n",
    "print(df)\n"
   ]
  },
  {
   "cell_type": "markdown",
   "metadata": {},
   "source": [
    "## COMPARE EXPERIMENTS"
   ]
  },
  {
   "cell_type": "code",
   "execution_count": 92,
   "metadata": {},
   "outputs": [],
   "source": [
    "import pandas as pd "
   ]
  },
  {
   "cell_type": "code",
   "execution_count": 93,
   "metadata": {},
   "outputs": [],
   "source": [
    "id = 1\n",
    "result_paths = \"/Users/elotech/Desktop/DeepHiveV2/experiments/results/comparison_5.csv\""
   ]
  },
  {
   "cell_type": "code",
   "execution_count": 94,
   "metadata": {},
   "outputs": [],
   "source": [
    "df = pd.read_csv(result_paths)"
   ]
  },
  {
   "cell_type": "code",
   "execution_count": 96,
   "metadata": {},
   "outputs": [
    {
     "data": {
      "text/html": [
       "<div>\n",
       "<style scoped>\n",
       "    .dataframe tbody tr th:only-of-type {\n",
       "        vertical-align: middle;\n",
       "    }\n",
       "\n",
       "    .dataframe tbody tr th {\n",
       "        vertical-align: top;\n",
       "    }\n",
       "\n",
       "    .dataframe thead th {\n",
       "        text-align: right;\n",
       "    }\n",
       "</style>\n",
       "<table border=\"1\" class=\"dataframe\">\n",
       "  <thead>\n",
       "    <tr style=\"text-align: right;\">\n",
       "      <th></th>\n",
       "      <th>Unnamed: 0</th>\n",
       "      <th>title</th>\n",
       "      <th>mean</th>\n",
       "      <th>lower</th>\n",
       "      <th>upper</th>\n",
       "      <th>mid_mean</th>\n",
       "      <th>mid_lower</th>\n",
       "      <th>mid_upper</th>\n",
       "    </tr>\n",
       "  </thead>\n",
       "  <tbody>\n",
       "    <tr>\n",
       "      <th>0</th>\n",
       "      <td>0</td>\n",
       "      <td>CEC17 Function 27 - NO SPLITTING-UNFREEZE</td>\n",
       "      <td>2987.013682</td>\n",
       "      <td>2974.578222</td>\n",
       "      <td>2999.449142</td>\n",
       "      <td>3009.054367</td>\n",
       "      <td>2996.745469</td>\n",
       "      <td>3021.363266</td>\n",
       "    </tr>\n",
       "    <tr>\n",
       "      <th>1</th>\n",
       "      <td>1</td>\n",
       "      <td>CEC17 Function 27 - NO SPLITTING-DELAYED DECAY...</td>\n",
       "      <td>2973.589801</td>\n",
       "      <td>2965.058110</td>\n",
       "      <td>2982.121492</td>\n",
       "      <td>3003.039782</td>\n",
       "      <td>2994.563572</td>\n",
       "      <td>3011.515993</td>\n",
       "    </tr>\n",
       "    <tr>\n",
       "      <th>2</th>\n",
       "      <td>2</td>\n",
       "      <td>CEC17 Function 27 - SPLITTING-WITH STDs</td>\n",
       "      <td>2974.571836</td>\n",
       "      <td>2961.942903</td>\n",
       "      <td>2987.200768</td>\n",
       "      <td>3001.755709</td>\n",
       "      <td>2989.396774</td>\n",
       "      <td>3014.114643</td>\n",
       "    </tr>\n",
       "    <tr>\n",
       "      <th>3</th>\n",
       "      <td>3</td>\n",
       "      <td>CEC17 Function 27 - SPLITTING-WITH STDs - Dyna...</td>\n",
       "      <td>2983.779593</td>\n",
       "      <td>2963.518627</td>\n",
       "      <td>3004.040559</td>\n",
       "      <td>3005.104747</td>\n",
       "      <td>2986.743756</td>\n",
       "      <td>3023.465739</td>\n",
       "    </tr>\n",
       "    <tr>\n",
       "      <th>4</th>\n",
       "      <td>4</td>\n",
       "      <td>CEC17 Function 27 - SPLITTING-TWO POLICIES</td>\n",
       "      <td>2937.263102</td>\n",
       "      <td>2919.376961</td>\n",
       "      <td>2955.149244</td>\n",
       "      <td>2955.374001</td>\n",
       "      <td>2938.900271</td>\n",
       "      <td>2971.847730</td>\n",
       "    </tr>\n",
       "    <tr>\n",
       "      <th>5</th>\n",
       "      <td>5</td>\n",
       "      <td>CEC17 Function 27 - SPLITTING-TWO POLICIES - D...</td>\n",
       "      <td>2955.439319</td>\n",
       "      <td>2938.764632</td>\n",
       "      <td>2972.114007</td>\n",
       "      <td>2967.118311</td>\n",
       "      <td>2951.691155</td>\n",
       "      <td>2982.545466</td>\n",
       "    </tr>\n",
       "    <tr>\n",
       "      <th>6</th>\n",
       "      <td>6</td>\n",
       "      <td>CEC17 Function 27 - PSO</td>\n",
       "      <td>2919.646871</td>\n",
       "      <td>2902.448759</td>\n",
       "      <td>2936.844982</td>\n",
       "      <td>2935.996425</td>\n",
       "      <td>2920.486754</td>\n",
       "      <td>2951.506096</td>\n",
       "    </tr>\n",
       "  </tbody>\n",
       "</table>\n",
       "</div>"
      ],
      "text/plain": [
       "   Unnamed: 0                                              title         mean  \\\n",
       "0           0          CEC17 Function 27 - NO SPLITTING-UNFREEZE  2987.013682   \n",
       "1           1  CEC17 Function 27 - NO SPLITTING-DELAYED DECAY...  2973.589801   \n",
       "2           2            CEC17 Function 27 - SPLITTING-WITH STDs  2974.571836   \n",
       "3           3  CEC17 Function 27 - SPLITTING-WITH STDs - Dyna...  2983.779593   \n",
       "4           4         CEC17 Function 27 - SPLITTING-TWO POLICIES  2937.263102   \n",
       "5           5  CEC17 Function 27 - SPLITTING-TWO POLICIES - D...  2955.439319   \n",
       "6           6                            CEC17 Function 27 - PSO  2919.646871   \n",
       "\n",
       "         lower        upper     mid_mean    mid_lower    mid_upper  \n",
       "0  2974.578222  2999.449142  3009.054367  2996.745469  3021.363266  \n",
       "1  2965.058110  2982.121492  3003.039782  2994.563572  3011.515993  \n",
       "2  2961.942903  2987.200768  3001.755709  2989.396774  3014.114643  \n",
       "3  2963.518627  3004.040559  3005.104747  2986.743756  3023.465739  \n",
       "4  2919.376961  2955.149244  2955.374001  2938.900271  2971.847730  \n",
       "5  2938.764632  2972.114007  2967.118311  2951.691155  2982.545466  \n",
       "6  2902.448759  2936.844982  2935.996425  2920.486754  2951.506096  "
      ]
     },
     "execution_count": 96,
     "metadata": {},
     "output_type": "execute_result"
    }
   ],
   "source": [
    "df"
   ]
  },
  {
   "cell_type": "code",
   "execution_count": 97,
   "metadata": {},
   "outputs": [],
   "source": [
    "dff = df.copy()"
   ]
  },
  {
   "cell_type": "code",
   "execution_count": 133,
   "metadata": {},
   "outputs": [],
   "source": [
    "def create_benchmark_tables(dfs):\n",
    "    # Step 1: Extract unique algorithm names and functions\n",
    "    # Assuming algorithm names and functions can be extracted from the 'title' column\n",
    "    algos = set()\n",
    "    functions = set()\n",
    "    for df in dfs:\n",
    "        df['Function'], df['Algorithm'] = zip(*df['title'].apply(lambda x: x.split(' - ', 1)))\n",
    "        algos.update(df['Algorithm'].unique())\n",
    "        functions.update(df['Function'].unique())\n",
    "\n",
    "    # Step 2: Create the MultiIndex for columns\n",
    "    columns = pd.MultiIndex.from_product([sorted(algos), ['mean', 'mid_mean']], names=['Algorithm', 'Metric'])\n",
    "\n",
    "    # Initialize an empty DataFrame to hold the aggregated data\n",
    "    combined_df = pd.DataFrame(columns=columns, index=sorted(functions))\n",
    "\n",
    "    # Step 3: Aggregate data\n",
    "    for df in dfs:\n",
    "        for index, row in df.iterrows():\n",
    "            func = row['Function']\n",
    "            algo = row['Algorithm']\n",
    "            combined_df.loc[func, (algo, 'mean')] = row['mean']\n",
    "            combined_df.loc[func, (algo, 'mid_mean')] = row['mid_mean']\n",
    "\n",
    "    # Reset index name\n",
    "    combined_df.index.name = 'Function'\n",
    "\n",
    "    def highlight_max(s):\n",
    "        '''\n",
    "        highlight the maximum in a Series yellow.\n",
    "        '''\n",
    "        is_max = s == s.max()\n",
    "        return ['background-color: red' if v else '' for v in is_max]\n",
    "\n",
    "    def highlight_min(s):\n",
    "        '''\n",
    "        highlight the maximum in a Series yellow.\n",
    "        '''\n",
    "        is_min = s == s.min()\n",
    "        return ['background-color: green' if v else '' for v in is_min]\n",
    "\n",
    "    # Step 4: Display the combined DataFrame\n",
    "    combined_df = combined_df.style.apply(highlight_min, axis=1)\n",
    "    return combined_df\n",
    "\n",
    "\n",
    "# result_comparison = create_benchmark_tables(dfs)"
   ]
  },
  {
   "cell_type": "code",
   "execution_count": 134,
   "metadata": {},
   "outputs": [],
   "source": [
    "combined_df = create_benchmark_tables(dfs)"
   ]
  },
  {
   "cell_type": "code",
   "execution_count": 139,
   "metadata": {},
   "outputs": [],
   "source": [
    "combined_df.to_html(\"/Users/elotech/Desktop/DeepHiveV2/experiments/results/comparison_5.html\")"
   ]
  },
  {
   "cell_type": "code",
   "execution_count": 132,
   "metadata": {},
   "outputs": [
    {
     "ename": "AttributeError",
     "evalue": "'NoneType' object has no attribute 'export'",
     "output_type": "error",
     "traceback": [
      "\u001b[0;31m---------------------------------------------------------------------------\u001b[0m",
      "\u001b[0;31mAttributeError\u001b[0m                            Traceback (most recent call last)",
      "Cell \u001b[0;32mIn[132], line 3\u001b[0m\n\u001b[1;32m      1\u001b[0m combined_df\n\u001b[1;32m      2\u001b[0m \u001b[38;5;66;03m# save the combined_df to a csv file\u001b[39;00m\n\u001b[0;32m----> 3\u001b[0m \u001b[43mcombined_df\u001b[49m\u001b[38;5;241;43m.\u001b[39;49m\u001b[43mexport\u001b[49m(\u001b[38;5;124m\"\u001b[39m\u001b[38;5;124m/Users/elotech/Desktop/DeepHiveV2/experiments/results/comparison_5_combined.csv\u001b[39m\u001b[38;5;124m\"\u001b[39m)\n",
      "\u001b[0;31mAttributeError\u001b[0m: 'NoneType' object has no attribute 'export'"
     ]
    }
   ],
   "source": [
    "combined_df\n",
    "# save the combined_df to a csv file\n",
    "combined_df.export(\"/Users/elotech/Desktop/DeepHiveV2/experiments/results/comparison_5_combined.csv\")"
   ]
  },
  {
   "cell_type": "code",
   "execution_count": null,
   "metadata": {},
   "outputs": [],
   "source": [
    "combined_df."
   ]
  },
  {
   "cell_type": "code",
   "execution_count": 95,
   "metadata": {},
   "outputs": [],
   "source": [
    "# columns = [\"function\", \"no-split\", \"delayed-decay\", \"split-stds\", \"split-stds-dynamic\", \"split-2-policies\", \"split-2-policies-dynamic\", \"vanilla-pso\"]\n",
    "# result_df = pd.DataFrame([], columns=columns)\n",
    "# for id in range(0, 29):\n",
    "#     try:\n",
    "#         result_paths = f\"/Users/elotech/Desktop/DeepHiveV2/experiments 2/results/result_comparison_function_{id}.csv\"\n",
    "#         df = pd.read_csv(result_paths)\n",
    "#         function = f\"f{id+1}\"\n",
    "#         mean_fx = df[\"mean\"].values.tolist()\n",
    "#         mean_fx = [function] + mean_fx\n",
    "#         result_df.loc[len(result_df)] = mean_fx\n",
    "#     except Exception as e:\n",
    "#         print(e)\n",
    "#         continue\n"
   ]
  }
 ],
 "metadata": {
  "kernelspec": {
   "display_name": "mlEnv",
   "language": "python",
   "name": "python3"
  },
  "language_info": {
   "codemirror_mode": {
    "name": "ipython",
    "version": 3
   },
   "file_extension": ".py",
   "mimetype": "text/x-python",
   "name": "python",
   "nbconvert_exporter": "python",
   "pygments_lexer": "ipython3",
   "version": "3.11.7"
  }
 },
 "nbformat": 4,
 "nbformat_minor": 2
}
